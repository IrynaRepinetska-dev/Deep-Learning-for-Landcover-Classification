{
  "nbformat": 4,
  "nbformat_minor": 0,
  "metadata": {
    "colab": {
      "name": "RNN_with_valid_set.ipynb",
      "provenance": [],
      "collapsed_sections": [],
      "toc_visible": true
    },
    "kernelspec": {
      "name": "python3",
      "display_name": "Python 3"
    },
    "accelerator": "GPU"
  },
  "cells": [
    {
      "cell_type": "markdown",
      "metadata": {
        "id": "Oxu36McSdKdF"
      },
      "source": [
        "# Implementation of RNN based on GRU for hyperspectral image segmentation (Huston dataset)"
      ]
    },
    {
      "cell_type": "code",
      "metadata": {
        "colab": {
          "base_uri": "https://localhost:8080/"
        },
        "id": "AemMZuD4jsLp",
        "outputId": "fbadf8a7-6a3d-4293-d8d8-257ecc0d3070"
      },
      "source": [
        "from google.colab import drive\n",
        "drive.mount('/content/drive')"
      ],
      "execution_count": 23,
      "outputs": [
        {
          "output_type": "stream",
          "text": [
            "Drive already mounted at /content/drive; to attempt to forcibly remount, call drive.mount(\"/content/drive\", force_remount=True).\n"
          ],
          "name": "stdout"
        }
      ]
    },
    {
      "cell_type": "markdown",
      "metadata": {
        "id": "VWaLHBGfdhQ_"
      },
      "source": [
        "## Dependencies"
      ]
    },
    {
      "cell_type": "code",
      "metadata": {
        "id": "WL7-1Hdc7aod"
      },
      "source": [
        "import torch\n",
        "import torch.utils.data as dataf\n",
        "import torch.nn as nn\n",
        "from scipy import io\n",
        "from skimage import io as skimage_io\n",
        "import numpy as np\n",
        "import os\n",
        "import sys\n",
        "import pickle\n",
        "import time\n",
        "import random\n",
        "import matplotlib.pyplot as plt\n",
        "from matplotlib import colors as c\n",
        "from sklearn.metrics import cohen_kappa_score\n",
        "from sklearn.metrics import confusion_matrix"
      ],
      "execution_count": 24,
      "outputs": []
    },
    {
      "cell_type": "markdown",
      "metadata": {
        "id": "yf-Ol2YlEzUF"
      },
      "source": [
        "## Global variables initialization"
      ]
    },
    {
      "cell_type": "code",
      "metadata": {
        "id": "jj6_aCNYEwSZ"
      },
      "source": [
        "# define global variables\n",
        "LR = 0.001\n",
        "GRULayers = 2\n",
        "HiddenSize = 128\n",
        "Dropout = 0\n",
        "Epoch = 200\n",
        "\n",
        "batchsize = 182\n",
        "batchsize_val = 14"
      ],
      "execution_count": 25,
      "outputs": []
    },
    {
      "cell_type": "markdown",
      "metadata": {
        "id": "0AC6jzpxGV62"
      },
      "source": [
        "## Function declarations"
      ]
    },
    {
      "cell_type": "markdown",
      "metadata": {
        "id": "dC_ZGeH0Aqxc"
      },
      "source": [
        "### readData"
      ]
    },
    {
      "cell_type": "code",
      "metadata": {
        "id": "moOn-RqndQGY"
      },
      "source": [
        "# this function reads data and reshapes it \n",
        "# so that the first two dimensions are special,\n",
        "# the third is spectral\n",
        "def readData(data_dir = \"/content/drive/MyDrive/landcover/data/\"):\n",
        "  # read data from data_dir\n",
        "  Data = skimage_io.imread(data_dir + 'CASI_SC_tif.tif')\n",
        "  TrLabel = skimage_io.imread(data_dir + 'Train_samples.tif')\n",
        "  TsLabel = skimage_io.imread(data_dir + 'Test_sample.tif')\n",
        "\n",
        "  print('Data shape: {}'.format(Data.shape))\n",
        "  print('Train Data shape: {}'.format(TrLabel.shape))\n",
        "  print('Test Data shape: {}'.format(TsLabel.shape))\n",
        "\n",
        "  Data = torch.from_numpy(Data.astype(np.float32))\n",
        "  [L, M, N] = Data.shape\n",
        "  DataTemp = torch.empty([M, N, L])\n",
        "\n",
        "  for l in range(L):\n",
        "    DataTemp[:, :, l] = Data[l, :, :]\n",
        "\n",
        "  Data = DataTemp\n",
        "  del DataTemp\n",
        "\n",
        "  TrLabel = torch.from_numpy(TrLabel)\n",
        "  TsLabel = torch.from_numpy(TsLabel)\n",
        "\n",
        "\n",
        "  print('Data shape after reshape: {}'.format(list(Data.shape)))\n",
        "  return Data, TrLabel, TsLabel"
      ],
      "execution_count": 26,
      "outputs": []
    },
    {
      "cell_type": "markdown",
      "metadata": {
        "id": "8xkWXFNSA2MU"
      },
      "source": [
        "### printImage"
      ]
    },
    {
      "cell_type": "code",
      "metadata": {
        "id": "b0RJAya1kx4u"
      },
      "source": [
        "# this function prints and saves an image\n",
        "def printImage(colors, data_to_visualize, path_to_save):\n",
        "  cmap = c.ListedColormap(colors)\n",
        "  \n",
        "  cax = plt.imshow(data_to_visualize,cmap=cmap)\n",
        "  cbar = plt.colorbar(cax, ticks=np.arange(1, 16, 1), orientation='horizontal')\n",
        "  cbar.ax.set_xticklabels(['grass healthy', 'grass stressed', 'grass synthetic',\n",
        "                           'tree', 'soil', 'water', 'residential', 'commercial', \n",
        "                           'road', 'highway', 'railway', 'parking lot 1', \n",
        "                           'parking lot 2', 'tennis court', 'running track'], rotation=90)\n",
        "\n",
        "  plt.axis('off')\n",
        "  # save the image\n",
        "  plt.savefig(path_to_save, transparent=True, dpi=300, bbox_inches=\"tight\", pad_inches=0.0)"
      ],
      "execution_count": 27,
      "outputs": []
    },
    {
      "cell_type": "markdown",
      "metadata": {
        "id": "4BlINmnCA92x"
      },
      "source": [
        "### normalizeData"
      ]
    },
    {
      "cell_type": "code",
      "metadata": {
        "id": "0s99lXDRiQV7"
      },
      "source": [
        "# this function normalizes given Data by mapping it to zero mean and one std\n",
        "def normalizeData(data):\n",
        "  [m, n, l] = data.shape\n",
        "  for i in range(l):\n",
        "      mean = torch.mean(data[:, :, i])\n",
        "      std = torch.std(data[:, :, i])\n",
        "      Data[:, :, i] = (data[:, :, i] - mean)/std\n",
        "\n",
        "  print(\"Mean of the dataset is {}, standard deviation is {}\".format(mean, std))\n",
        "  return data"
      ],
      "execution_count": 28,
      "outputs": []
    },
    {
      "cell_type": "markdown",
      "metadata": {
        "id": "GrvFC9dtBCE4"
      },
      "source": [
        "### constructDataForNetwork"
      ]
    },
    {
      "cell_type": "code",
      "metadata": {
        "id": "9Nndb3wiiit-"
      },
      "source": [
        "# this function constructs data for network\n",
        "def constructDataForNetwork(data, trLabel, tsLabel):\n",
        "  # m, n are special dimensions, l is the spectral dimension\n",
        "  \n",
        "  [m, n, l] = data.shape \n",
        "  TotalData = torch.reshape(data, [m*n, l])\n",
        "\n",
        "  TrainDataLabel = torch.reshape(trLabel, [m*n, 1])\n",
        "  Tr_index, _ = torch.where(TrainDataLabel != 0)\n",
        "  TrainData = TotalData[Tr_index, :]\n",
        "  TrainDataLabel = TrainDataLabel[Tr_index, 0]\n",
        "\n",
        "  TestDataLabel = torch.reshape(tsLabel, [m*n, 1])\n",
        "  Ts_index, _ = torch.where(TestDataLabel != 0)\n",
        "  TestData = TotalData[Ts_index, :]\n",
        "  TestDataLabel = TestDataLabel[Ts_index, 0]\n",
        "  \n",
        "  TrainDataLabel = TrainDataLabel - 1\n",
        "  TestDataLabel = TestDataLabel - 1\n",
        "  TrainDataLabel = TrainDataLabel.long()\n",
        "  TestDataLabel = TestDataLabel.long()\n",
        "\n",
        "  TrainData = (TrainData.unsqueeze(2)).type('torch.FloatTensor') \n",
        "  TestData = (TestData.unsqueeze(2)).type('torch.FloatTensor') \n",
        "  TotalData = TotalData.unsqueeze(2).type('torch.FloatTensor') \n",
        "\n",
        "  print('Training size is {}, testing size is: {}'.format(list(TrainData.shape), list(TestData.shape))) \n",
        "  return TrainData, TrainDataLabel, TestData, TestDataLabel, TotalData, m, n, l"
      ],
      "execution_count": 29,
      "outputs": []
    },
    {
      "cell_type": "markdown",
      "metadata": {
        "id": "2rDfqNx_BOjg"
      },
      "source": [
        "### constructDataLoaders"
      ]
    },
    {
      "cell_type": "code",
      "metadata": {
        "id": "z_eH4TVRd9c6"
      },
      "source": [
        "# this function constructs dataloaders\n",
        "def constructDataLoaders(TrainData, TrainDataLabel, TestData, TestDataLabel):\n",
        "  num_train_samples = np.int(TrainData.shape[0] * 0.9)\n",
        "  num_val_samples = TrainData.shape[0] - num_train_samples\n",
        "\n",
        "  print('number of training samples {}'.format(num_train_samples))\n",
        "  print('number of validation samples {}'.format(num_val_samples))\n",
        "\n",
        "  train_dataset_full = dataf.TensorDataset(TrainData, TrainDataLabel)\n",
        "  train_dataset, val_dataset = torch.utils.data.random_split(train_dataset_full, [num_train_samples, num_val_samples])\n",
        "\n",
        "  train_loader_full = dataf.DataLoader(train_dataset, batch_size=batchsize, shuffle=True)\n",
        "  train_loader = dataf.DataLoader(train_dataset, batch_size=batchsize, shuffle=True)\n",
        "  val_loader = dataf.DataLoader(val_dataset, batch_size=batchsize_val, shuffle=True)\n",
        "\n",
        "  test_dataset = dataf.TensorDataset(TestData, TestDataLabel)\n",
        "  test_loader = dataf.DataLoader(test_dataset, batch_size=batchsize, shuffle=True)\n",
        "\n",
        "  Classes = len(np.unique(TrainDataLabel))\n",
        "  print('Data has {} classes'.format(Classes))\n",
        "  return Classes, train_loader_full, train_loader, test_loader, val_loader"
      ],
      "execution_count": 30,
      "outputs": []
    },
    {
      "cell_type": "markdown",
      "metadata": {
        "id": "aGq4sr6zBRxy"
      },
      "source": [
        "### class GRU()"
      ]
    },
    {
      "cell_type": "code",
      "metadata": {
        "id": "7-AHH5vPhHRJ",
        "colab": {
          "base_uri": "https://localhost:8080/"
        },
        "outputId": "df85ea0b-1c1d-4e50-833c-5098279e32a4"
      },
      "source": [
        "# construct the network\n",
        "class GRU(nn.Module):\n",
        "    def __init__(self, hidden_size = HiddenSize, num_layers = GRULayers, dropout = Dropout, classes = 15):\n",
        "        super(GRU, self).__init__()\n",
        "        self.GRU = nn.GRU(  # if use nn.RNN(), it hardly learns\n",
        "            input_size=1,\n",
        "            hidden_size=hidden_size,  # rnn hidden unit\n",
        "            num_layers=num_layers,  # number of rnn layer\n",
        "            batch_first=True,  # input & output will has batch size as 1s dimension. e.g. (batch, time_step, input_size)\n",
        "            dropout = dropout #  if non-zero, introduces a Dropout layer on the outputs of each GRU layer except the last layer\n",
        "        )\n",
        "        self.out = nn.Linear(hidden_size, classes)\n",
        "\n",
        "    def forward(self, x):\n",
        "        # x shape (batch, time_step, input_size)\n",
        "        # r_out shape (batch, time_step, output_size)\n",
        "        # h_n shape (n_layers, batch, hidden_size)\n",
        "        # h_c shape (n_layers, batch, hidden_size)\n",
        "        r_out, h_n = self.GRU(x, None)\n",
        "        # r_out = self.dropout(r_out)\n",
        "        out = self.out(r_out[:, -1, :])\n",
        "        return out\n",
        "\n",
        "print(GRU)"
      ],
      "execution_count": 31,
      "outputs": [
        {
          "output_type": "stream",
          "text": [
            "<class '__main__.GRU'>\n"
          ],
          "name": "stdout"
        }
      ]
    },
    {
      "cell_type": "markdown",
      "metadata": {
        "id": "XzO518n8BYRu"
      },
      "source": [
        "### train"
      ]
    },
    {
      "cell_type": "code",
      "metadata": {
        "id": "D9f1-hkwk2Df"
      },
      "source": [
        "# this function implements training procedure for the RNN\n",
        "def train(epoch, train_loader, val_loader = None, lr=LR, num_layers=GRULayers, \n",
        "          hidden_size=HiddenSize, dropout=Dropout,\n",
        "          optimize=False):\n",
        "  # starting time\n",
        "  start = time.time()\n",
        "  \n",
        "  rnn = GRU(hidden_size=hidden_size, num_layers=num_layers, dropout=dropout)\n",
        "  rnn.to(device)\n",
        "  print(rnn)\n",
        "\n",
        "  optimizer = torch.optim.Adam(rnn.parameters(), lr=lr)\n",
        "  loss_func = nn.CrossEntropyLoss()\n",
        "\n",
        "  history = []\n",
        "  history_train_loss = []\n",
        "  history_val_loss = []\n",
        "  history_train_acc = []\n",
        "  history_val_acc = []\n",
        "\n",
        "  # training and testing\n",
        "  for epoch in range(epoch):\n",
        "      train_loss = 0\n",
        "      train_acc = 0\n",
        "      val_loss = 0\n",
        "      val_acc = 0\n",
        "      \n",
        "      rnn.train()  # in the training phase, we need to use dropout again\n",
        "      for _, (b_x, b_y) in enumerate(train_loader):  # gives batch data\n",
        "          b_x = b_x.to(device)\n",
        "          b_y = b_y.to(device)\n",
        "          output = rnn(b_x)  # rnn output\n",
        "          loss = loss_func(output, b_y)  # cross entropy loss\n",
        "          optimizer.zero_grad()  # clear gradients for this training step\n",
        "          loss.backward()  # backpropagation, compute gradients\n",
        "          optimizer.step()  # apply gradients\n",
        "\n",
        "          train_loss += loss.item()\n",
        "          _, preds = torch.max(output, dim=1)\n",
        "          train_acc += torch.sum(preds == b_y).item() \n",
        "\n",
        "      if optimize == True:\n",
        "        with torch.no_grad():\n",
        "          rnn.eval() # in the testing phase, we don't need to use dropout\n",
        "\n",
        "          for _, (b_x, b_y) in enumerate(val_loader):\n",
        "            b_x = b_x.to(device)\n",
        "            b_y = b_y.to(device)\n",
        "            output = rnn(b_x)\n",
        "            loss = loss_func(output, b_y)\n",
        "            val_loss += loss.item()\n",
        "\n",
        "            _, preds = torch.max(output, dim=1)\n",
        "            val_acc += torch.sum(preds == b_y).item() \n",
        "\n",
        "        train_loss = train_loss / (len(train_loader) * batchsize)\n",
        "        val_loss = val_loss / (len(val_loader) * batchsize_val)\n",
        "        train_acc = train_acc / (len(train_loader) * batchsize)\n",
        "        val_acc = val_acc / (len(val_loader) * batchsize_val)\n",
        "\n",
        "        history_train_loss.append(train_loss)\n",
        "        history_val_loss.append(val_loss)\n",
        "        history_train_acc.append(train_acc)\n",
        "        history_val_acc.append(val_acc)\n",
        "        print('Epoch: ', epoch, \n",
        "              '| train loss: %.4f' % train_loss, \n",
        "              '| val loss: %.4f' % val_loss,  \n",
        "              '| train accuracy: %.4f' % train_acc, \n",
        "              '| val accuracy: %.4f' % val_acc)\n",
        "      else:\n",
        "        train_loss = train_loss / (len(train_loader) * batchsize)\n",
        "        train_acc = train_acc / (len(train_loader) * batchsize)\n",
        "        print('Epoch: ', epoch, '| train loss: %.4f' % train_loss, '| train accuracy: %.4f' % train_acc)\n",
        "  \n",
        "  if optimize == True:\n",
        "    history.append({\"lr\" : lr, \"num_layers\" : num_layers, \"hidden_size\" : hidden_size, \"dropout\": dropout,\n",
        "                  \"train_loss\" : history_train_loss, \"val_loss\" : history_val_loss,\n",
        "                  \"train_acc\" : history_train_acc, \"val_acc\" : history_val_acc})\n",
        "\n",
        "  torch.save(rnn.state_dict(),\n",
        "               '/content/drive/MyDrive/landcover/RNN/model_weights/net_params_RNN_{}_{}_{}_{}.pkl'\n",
        "               .format(lr, num_layers, hidden_size, dropout))\n",
        "  \n",
        "  # ending time      \n",
        "  end = time.time()\n",
        "  return history, end - start"
      ],
      "execution_count": 32,
      "outputs": []
    },
    {
      "cell_type": "markdown",
      "metadata": {
        "id": "I9a98r63BmEv"
      },
      "source": [
        "### saveHistory"
      ]
    },
    {
      "cell_type": "code",
      "metadata": {
        "id": "HLvLOeaRaWUE"
      },
      "source": [
        "# this function saves an input into a file\n",
        "def saveHistory(history, file):\n",
        "  with open(file, 'wb') as filehandle:\n",
        "    # store the data as binary data stream\n",
        "    pickle.dump(history, filehandle)"
      ],
      "execution_count": 33,
      "outputs": []
    },
    {
      "cell_type": "markdown",
      "metadata": {
        "id": "lRzriuGqBhWv"
      },
      "source": [
        "### trainForHyperparams"
      ]
    },
    {
      "cell_type": "code",
      "metadata": {
        "id": "haNRfMTsRiXq"
      },
      "source": [
        "# this function runs the experiments for all combinations of hyperparameters\n",
        "# provided by a config_hyper_params\n",
        "def trainForHyperparams(config_hyper_params, history_file,\n",
        "                        train_loader, val_loader, epoch=Epoch):\n",
        "  learning_rate = config_hyper_params[\"learning_rate\"]\n",
        "  gru_num_layers = config_hyper_params[\"gru_num_layers\"]\n",
        "  gru_hidden_size = config_hyper_params[\"gru_hidden_size\"]\n",
        "  dropout = config_hyper_params[\"dropout\"]\n",
        "  history = []\n",
        "  time = []\n",
        "\n",
        "  for lr in learning_rate:\n",
        "    for layer in gru_num_layers:\n",
        "      for hidden in gru_hidden_size:\n",
        "        for d in dropout:\n",
        "          print(\"Learning rate {}, gru layers {}, hidden_layers {}, dropout {}\".format(lr, layer, hidden, d))\n",
        "          h, t = train(epoch, train_loader, val_loader, lr, layer, hidden, d, True)\n",
        "          history.append(h)\n",
        "          time.append({\"lr\": lr, \"gru_num_layers\": layer, \"gru_hidden_size\": hidden , \"dropout\": d, \"time\": t})\n",
        "  # write data from training experiment to a file as a binary data\n",
        "  saveHistory(history, history_file)\n",
        "  return history, time"
      ],
      "execution_count": 34,
      "outputs": []
    },
    {
      "cell_type": "markdown",
      "metadata": {
        "id": "OuDvRh93BrHC"
      },
      "source": [
        "### readHistory"
      ]
    },
    {
      "cell_type": "code",
      "metadata": {
        "id": "I0oyl3Aw0PYe"
      },
      "source": [
        "# this function reads data from a binary file\n",
        "def readHistory(file):\n",
        "  with open(history_file, 'rb') as filehandle:\n",
        "    # read the data as binary data stream\n",
        "    history_loaded = pickle.load(filehandle)\n",
        "  return history_loaded"
      ],
      "execution_count": 35,
      "outputs": []
    },
    {
      "cell_type": "markdown",
      "metadata": {
        "id": "oUPGgDTMBvAS"
      },
      "source": [
        "### plotLosses"
      ]
    },
    {
      "cell_type": "code",
      "metadata": {
        "id": "7A3qKY2h02I_"
      },
      "source": [
        "# this functions expects a dictionary with the key words\n",
        "# \"lr\", \"num_layers\", \"hidden_size\", \"train_loss\", \"val_loss\", \"train_acc\",\n",
        "# \"val_acc\" and \"dropout\"\n",
        "# the value for each of them should be given by an array of the same size\n",
        "# this data is interpreted as training data and visualized\n",
        "\n",
        "def plotLosses(history_item, folder, epoch):\n",
        "    lr = history_item[\"lr\"]\n",
        "    num_layers = history_item[\"num_layers\"]\n",
        "    hidden_size = history_item[\"hidden_size\"]\n",
        "    dropout = history_item[\"dropout\"]\n",
        "    train_losses = history_item['train_loss']\n",
        "    val_losses = history_item['val_loss']\n",
        "\n",
        "    train_acc = history_item['train_acc']\n",
        "    val_acc = history_item['val_acc']\n",
        "\n",
        "    fig, (ax1, ax2) = plt.subplots(1, 2)\n",
        "    fig.suptitle('Learning rate {}, GRU layers {}, hidden size {}, dropout {}'.format(\n",
        "        lr, num_layers, hidden_size, dropout))\n",
        "    fig.tight_layout(pad=3.0) # adjust distance between subplots\n",
        "    plt.subplots_adjust(top=0.8) # adjust distance between subplots and title\n",
        "\n",
        "\n",
        "    ax1.plot(train_losses, '-b', label = 'Training')\n",
        "    ax1.plot(val_losses, '-r', label = 'Validation')\n",
        "    ax1.set_title('Loss vs. epoch')\n",
        "    ax1.set(xlabel='Epoch', ylabel='Loss')\n",
        "    #ax1.set_yscale('log')\n",
        "    ax1.set_xticks(np.arange(start=0, stop=epoch + 1, step=epoch / 4))\n",
        "    ax1.grid()\n",
        "    ax1.legend(shadow=True, fancybox=True)\n",
        "    ax1.set_xlim([0, epoch])\n",
        "    \n",
        "\n",
        "    ax2.plot(train_acc, '-b', label = 'Training')\n",
        "    ax2.plot(val_acc, '-r', label = 'Validation')\n",
        "    ax2.set_title('Overall accuracy vs. epoch')\n",
        "    ax2.set(xlabel='Epoch', ylabel='Overall accuracy')\n",
        "    ax2.set_xticks(np.arange(start=0, stop=epoch + 1, step=epoch / 4))\n",
        "    ax2.grid()\n",
        "    ax2.legend(shadow=True, fancybox=True)\n",
        "    ax2.set_xlim([0, epoch])\n",
        "    ax2.set_yticks(np.arange(start=0, stop=1.01, step=0.1))\n",
        "\n",
        "    plt.savefig(\"{}RNN_{}_{}_{}_{}.jpeg\".format(folder, lr, num_layers, hidden_size, dropout),\n",
        "                transparent=True, dpi=300, bbox_inches=\"tight\", pad_inches=2.0)\n",
        "\n",
        "    plt.pause(0.05)"
      ],
      "execution_count": 36,
      "outputs": []
    },
    {
      "cell_type": "markdown",
      "metadata": {
        "id": "DbW8Y_QHB5G-"
      },
      "source": [
        "### plotHistory"
      ]
    },
    {
      "cell_type": "code",
      "metadata": {
        "id": "_XwK8LU295Em"
      },
      "source": [
        "# this function plots the training experiments results\n",
        "def plotHistory(history, config, folder, epoch = Epoch):\n",
        "  learning_rate = config[\"learning_rate\"]\n",
        "  gru_num_layers = config[\"gru_num_layers\"]\n",
        "  gru_hidden_size = config[\"gru_hidden_size\"]\n",
        "  dropout = config[\"dropout\"]\n",
        "  i = 0\n",
        "  for lr in learning_rate:\n",
        "    for layer in gru_num_layers:\n",
        "      for hidden in gru_hidden_size:\n",
        "        for d in dropout:\n",
        "          print(\"Learning rate {}, gru layers {}, hidden_layers {}, dropout {}\".format(lr, layer, hidden, d))\n",
        "          plotLosses(history_loaded[i][0], folder, epoch)\n",
        "          i = i + 1"
      ],
      "execution_count": 37,
      "outputs": []
    },
    {
      "cell_type": "markdown",
      "metadata": {
        "id": "cgDHxhseIqO5"
      },
      "source": [
        "### predictData"
      ]
    },
    {
      "cell_type": "code",
      "metadata": {
        "id": "yB6WZL-dIpNW"
      },
      "source": [
        "# this function applies model on the second parameter\n",
        "def predictData(model, dataToPredict, numDataSamples):\n",
        "  predictions = torch.empty(numDataSamples)\n",
        "  number = numDataSamples // 5000\n",
        "\n",
        "  for i in range(number):\n",
        "    temp = dataToPredict[i*5000 : (i+1)*5000, :, :]\n",
        "    temp = temp.to(device)\n",
        "    temp2 = model(temp)\n",
        "    temp3 = torch.max(temp2, 1)[1].squeeze()\n",
        "    predictions[i*5000:(i+1)*5000] = temp3.cpu()\n",
        "    del temp, temp2, temp3\n",
        "\n",
        "  if (i+1)*5000 < numDataSamples:\n",
        "    temp = dataToPredict[(i+1)*5000 : numDataSamples, :, :]\n",
        "    temp = temp.to(device)\n",
        "    temp2 = model(temp)\n",
        "    temp3 = torch.max(temp2, 1)[1].squeeze()\n",
        "    predictions[(i+1)*5000 : numDataSamples] = temp3.cpu()\n",
        "    del temp, temp2, temp3\n",
        "\n",
        "  predictions = predictions.type('torch.LongTensor')\n",
        "  return predictions"
      ],
      "execution_count": 38,
      "outputs": []
    },
    {
      "cell_type": "markdown",
      "metadata": {
        "id": "wAc7reAkJZwt"
      },
      "source": [
        "### computeOverallAccuracy"
      ]
    },
    {
      "cell_type": "code",
      "metadata": {
        "id": "Ljap_6_DJL-_"
      },
      "source": [
        "# this function computes overall accuracy given prediction and the labels\n",
        "def computeOverallAccuracy(pred_y, testDataLabel):\n",
        "  OA = torch.sum(pred_y == testDataLabel).type(torch.FloatTensor) / testDataLabel.size(0)\n",
        "  return OA"
      ],
      "execution_count": 39,
      "outputs": []
    },
    {
      "cell_type": "markdown",
      "metadata": {
        "id": "FYfaOEB0RRyf"
      },
      "source": [
        "### computeAccuracyForEachClass"
      ]
    },
    {
      "cell_type": "code",
      "metadata": {
        "id": "DtAcQsg-QtUh"
      },
      "source": [
        "# this function computes the accuracy for each class given the predictions\n",
        "# as the first parameter, labels as the second parameter\n",
        "# and the number of classes as the third parameter\n",
        "def computeAccuracyForEachClass(pred_y, testDataLabel, numClasses):\n",
        "  right = torch.zeros(numClasses)\n",
        "  sum = torch.zeros(numClasses)\n",
        "\n",
        "  for j in range(len(TestDataLabel)):\n",
        "    c = TestDataLabel[j]\n",
        "    sum[c] += 1\n",
        "    if pred_y[j] == c:\n",
        "      right[c] += 1\n",
        "\n",
        "  return (right/sum).type(torch.FloatTensor)"
      ],
      "execution_count": 40,
      "outputs": []
    },
    {
      "cell_type": "markdown",
      "metadata": {
        "id": "0HzA-M8WSfWf"
      },
      "source": [
        "### computeAvarageAccuracy"
      ]
    },
    {
      "cell_type": "code",
      "metadata": {
        "id": "tofMb56YSKPL"
      },
      "source": [
        "# this function computes average accuracy given the predictions\n",
        "# as the first parameter, labels as the second parameter\n",
        "# and the number of classes as the third parameter\n",
        "def computeAvarageAccuracy(pred_y, testDataLabel, numClasses):\n",
        "  eachAcc = computeAccuracyForEachClass(pred_y, testDataLabel, numClasses)\n",
        "  return torch.sum(eachAcc) / numClasses"
      ],
      "execution_count": 41,
      "outputs": []
    },
    {
      "cell_type": "markdown",
      "metadata": {
        "id": "a0nc74JqBEUc"
      },
      "source": [
        "plotConfusionMatrix"
      ]
    },
    {
      "cell_type": "code",
      "metadata": {
        "id": "xES9y05UBGka"
      },
      "source": [
        "# this function plots a given confustion matirix\n",
        "# this implemenation was take from https://stackoverflow.com/questions/19233771/sklearn-plot-confusion-matrix-with-labels\n",
        "def plotConfusionMatrix(cm,\n",
        "                          target_names,\n",
        "                          savePath,\n",
        "                          title='Confusion matrix',\n",
        "                          cmap=None,\n",
        "                          normalize=True):\n",
        "    \"\"\"\n",
        "    given a sklearn confusion matrix (cm), make a nice plot\n",
        "\n",
        "    Arguments\n",
        "    ---------\n",
        "    cm:           confusion matrix from sklearn.metrics.confusion_matrix\n",
        "\n",
        "    target_names: given classification classes such as [0, 1, 2]\n",
        "                  the class names, for example: ['high', 'medium', 'low']\n",
        "\n",
        "    title:        the text to display at the top of the matrix\n",
        "\n",
        "    cmap:         the gradient of the values displayed from matplotlib.pyplot.cm\n",
        "                  see http://matplotlib.org/examples/color/colormaps_reference.html\n",
        "                  plt.get_cmap('jet') or plt.cm.Blues\n",
        "\n",
        "    normalize:    If False, plot the raw numbers\n",
        "                  If True, plot the proportions\n",
        "\n",
        "    Usage\n",
        "    -----\n",
        "    plot_confusion_matrix(cm           = cm,                  # confusion matrix created by\n",
        "                                                              # sklearn.metrics.confusion_matrix\n",
        "                          normalize    = True,                # show proportions\n",
        "                          target_names = y_labels_vals,       # list of names of the classes\n",
        "                          title        = best_estimator_name) # title of graph\n",
        "\n",
        "    Citiation\n",
        "    ---------\n",
        "    http://scikit-learn.org/stable/auto_examples/model_selection/plot_confusion_matrix.html\n",
        "\n",
        "    \"\"\"\n",
        "    import matplotlib.pyplot as plt\n",
        "    import numpy as np\n",
        "    import itertools\n",
        "\n",
        "    accuracy = np.trace(cm) / np.sum(cm).astype('float')\n",
        "    misclass = 1 - accuracy\n",
        "\n",
        "    if cmap is None:\n",
        "        cmap = plt.get_cmap('Blues')\n",
        "\n",
        "    plt.figure(figsize=(10, 8))\n",
        "    plt.imshow(cm, interpolation='nearest', cmap=cmap)\n",
        "    plt.title(title)\n",
        "    #cbar = plt.colorbar()\n",
        "    #cbar.ax.set_xticklabels([0, 0.2, 0.5, 0.7, 1])\n",
        "\n",
        "    if target_names is not None:\n",
        "        tick_marks = np.arange(len(target_names))\n",
        "        plt.xticks(tick_marks, target_names, rotation=90)\n",
        "        plt.yticks(tick_marks, target_names)\n",
        "\n",
        "    if normalize:\n",
        "        cm = cm.astype('float') / cm.sum(axis=1)[:, np.newaxis]\n",
        "\n",
        "\n",
        "    thresh = cm.max() / 1.5 if normalize else cm.max() / 2\n",
        "    for i, j in itertools.product(range(cm.shape[0]), range(cm.shape[1])):\n",
        "        if normalize:\n",
        "            plt.text(j, i, \"{:0.2f}\".format(cm[i, j]),\n",
        "                     horizontalalignment=\"center\",\n",
        "                     color=\"white\" if cm[i, j] > thresh else \"black\")\n",
        "        else:\n",
        "            plt.text(j, i, \"{:,}\".format(cm[i, j]),\n",
        "                     horizontalalignment=\"center\",\n",
        "                     color=\"white\" if cm[i, j] > thresh else \"black\")\n",
        "\n",
        "\n",
        "    plt.tight_layout()\n",
        "    plt.ylabel('True label')\n",
        "    plt.xlabel('Predicted label\\n overall accuracy={:0.4f}; misclass={:0.4f}'.format(accuracy, misclass))\n",
        "    plt.savefig(savePath,\n",
        "                transparent=True, dpi=300, bbox_inches=\"tight\", pad_inches=5.0)\n",
        "    plt.show()\n",
        "    "
      ],
      "execution_count": 42,
      "outputs": []
    },
    {
      "cell_type": "markdown",
      "metadata": {
        "id": "06wOWVbid2t9"
      },
      "source": [
        "## Tuning the hyperparameters of the model"
      ]
    },
    {
      "cell_type": "code",
      "metadata": {
        "colab": {
          "base_uri": "https://localhost:8080/"
        },
        "id": "R_d1ejYeORaS",
        "outputId": "52351526-b63c-409c-ae62-cbd0d6b55fbd"
      },
      "source": [
        "# use GPU for all further computations if it is available \n",
        "device = torch.device(\"cuda:0\" if torch.cuda.is_available() else \"cpu\")\n",
        "print(\"You are working on {}\".format(device))"
      ],
      "execution_count": 43,
      "outputs": [
        {
          "output_type": "stream",
          "text": [
            "You are working on cuda:0\n"
          ],
          "name": "stdout"
        }
      ]
    },
    {
      "cell_type": "code",
      "metadata": {
        "colab": {
          "base_uri": "https://localhost:8080/"
        },
        "id": "K_eau8mOOVfL",
        "outputId": "46aee133-ea24-46de-99eb-947987920792"
      },
      "source": [
        "## read data\n",
        "Data, TrLabel, TsLabel = readData()"
      ],
      "execution_count": 44,
      "outputs": [
        {
          "output_type": "stream",
          "text": [
            "Data shape: (144, 349, 1905)\n",
            "Train Data shape: (349, 1905)\n",
            "Test Data shape: (349, 1905)\n",
            "Data shape after reshape: [349, 1905, 144]\n"
          ],
          "name": "stdout"
        }
      ]
    },
    {
      "cell_type": "code",
      "metadata": {
        "colab": {
          "base_uri": "https://localhost:8080/",
          "height": 225
        },
        "id": "XrRupV9NOkPO",
        "outputId": "c095b088-20a8-4638-ea71-055591c359c3"
      },
      "source": [
        "# visualize the training sample and save it\n",
        "printImage(\n",
        "    [\"black\", \"green\", \"#AEF359\", \"#395500\", \"#013220\", \"#4f0a11\",  \"blue\", \"white\", \"red\",\n",
        "     \"#003955\", \"#5bf5f0\", \"magenta\", \"#deff73\", \"purple\", \"yellow\", \"brown\"],\n",
        "    TrLabel,\n",
        "    '/content/drive/MyDrive/landcover/train.png')"
      ],
      "execution_count": 45,
      "outputs": [
        {
          "output_type": "display_data",
          "data": {
            "image/png": "[encoded data removed]",
            "text/plain": [
              "<Figure size 432x288 with 2 Axes>"
            ]
          },
          "metadata": {
            "tags": [],
            "needs_background": "light"
          }
        }
      ]
    },
    {
      "cell_type": "code",
      "metadata": {
        "colab": {
          "base_uri": "https://localhost:8080/",
          "height": 225
        },
        "id": "mBZGX2S1OtsV",
        "outputId": "1bb866a3-2376-437a-d56d-83cb257cec3d"
      },
      "source": [
        "# visualize the test sample and save it\n",
        "printImage(\n",
        "    [\"black\", \"green\", \"#AEF359\", \"#395500\", \"#013220\", \"#4f0a11\",  \"blue\", \"white\", \"red\",\n",
        "     \"#003955\", \"#5bf5f0\", \"magenta\", \"#deff73\", \"purple\", \"yellow\", \"brown\"],\n",
        "    TsLabel,\n",
        "    '/content/drive/MyDrive/landcover/test.png')"
      ],
      "execution_count": 46,
      "outputs": [
        {
          "output_type": "display_data",
          "data": {
            "image/png": "[encoded data removed]",
            "text/plain": [
              "<Figure size 432x288 with 2 Axes>"
            ]
          },
          "metadata": {
            "tags": [],
            "needs_background": "light"
          }
        }
      ]
    },
    {
      "cell_type": "code",
      "metadata": {
        "colab": {
          "base_uri": "https://localhost:8080/"
        },
        "id": "gRaHrQznO3bz",
        "outputId": "a6500139-6975-46bd-fdb9-64f4ccc26942"
      },
      "source": [
        "# normalize data\n",
        "Data = normalizeData(Data)"
      ],
      "execution_count": 47,
      "outputs": [
        {
          "output_type": "stream",
          "text": [
            "Mean of the dataset is 6787.30517578125, standard deviation is 2853.2119140625\n"
          ],
          "name": "stdout"
        }
      ]
    },
    {
      "cell_type": "code",
      "metadata": {
        "colab": {
          "base_uri": "https://localhost:8080/"
        },
        "id": "3zvycoigPIUN",
        "outputId": "74ca72be-68b0-40c5-98b9-48af52e84acb"
      },
      "source": [
        "# constuct data for the network\n",
        "TrainData, TrainDataLabel, TestData, TestDataLabel, TotalData, m , n, l = constructDataForNetwork(Data, TrLabel, TsLabel)"
      ],
      "execution_count": 48,
      "outputs": [
        {
          "output_type": "stream",
          "text": [
            "Training size is [2832, 144, 1], testing size is: [12197, 144, 1]\n"
          ],
          "name": "stdout"
        }
      ]
    },
    {
      "cell_type": "code",
      "metadata": {
        "colab": {
          "base_uri": "https://localhost:8080/"
        },
        "id": "EJ8aXFDtPshg",
        "outputId": "2ad99e1a-de2a-4cd1-b5c9-da02244ebfaf"
      },
      "source": [
        "# constuct data loaders\n",
        "Classes, train_loader_full, train_loader, test_loader, val_loader = constructDataLoaders(\n",
        "    TrainData, TrainDataLabel, TestData, TestDataLabel)"
      ],
      "execution_count": 49,
      "outputs": [
        {
          "output_type": "stream",
          "text": [
            "number of training samples 2548\n",
            "number of validation samples 284\n",
            "Data has 15 classes\n"
          ],
          "name": "stdout"
        }
      ]
    },
    {
      "cell_type": "code",
      "metadata": {
        "id": "bMvKw9RPPh0R"
      },
      "source": [
        "# define hyperparameters which you want to train with\n",
        "hyper_config = {\n",
        "    \"learning_rate\" : [0.001],\n",
        "    \"gru_num_layers\" : [2],\n",
        "    \"gru_hidden_size\" : [80],\n",
        "    \"dropout\" : [0, 0.3, 0.5, 0.7],\n",
        "}"
      ],
      "execution_count": 50,
      "outputs": []
    },
    {
      "cell_type": "code",
      "metadata": {
        "id": "yIhEXp64R_Fb"
      },
      "source": [
        "# define a path to a file where the training expetiments are saved\n",
        "history_file = '/content/drive/MyDrive/landcover/RNN/hyper_params/history_dropouts'"
      ],
      "execution_count": 56,
      "outputs": []
    },
    {
      "cell_type": "code",
      "metadata": {
        "id": "YgqM4FqeSTI7",
        "colab": {
          "base_uri": "https://localhost:8080/"
        },
        "outputId": "c5562b5c-8838-4080-cd0c-439e10a8848c"
      },
      "source": [
        "# train with the defined above parameters\n",
        "_, times = trainForHyperparams(hyper_config, history_file, train_loader, val_loader)"
      ],
      "execution_count": 57,
      "outputs": [
        {
          "output_type": "stream",
          "text": [
            "Learning rate 0.001, gru layers 2, hidden_layers 80, dropout 0\n",
            "GRU(\n",
            "  (GRU): GRU(1, 80, num_layers=2, batch_first=True)\n",
            "  (out): Linear(in_features=80, out_features=15, bias=True)\n",
            ")\n",
            "Epoch:  0 | train loss: 0.0146 | val loss: 0.1803 | train accuracy: 0.1480 | val accuracy: 0.1327\n",
            "Epoch:  1 | train loss: 0.0130 | val loss: 0.1639 | train accuracy: 0.1354 | val accuracy: 0.1293\n",
            "Epoch:  2 | train loss: 0.0123 | val loss: 0.1577 | train accuracy: 0.1900 | val accuracy: 0.2007\n",
            "Epoch:  3 | train loss: 0.0117 | val loss: 0.1516 | train accuracy: 0.2449 | val accuracy: 0.2245\n",
            "Epoch:  4 | train loss: 0.0110 | val loss: 0.1402 | train accuracy: 0.3148 | val accuracy: 0.2993\n",
            "Epoch:  5 | train loss: 0.0103 | val loss: 0.1327 | train accuracy: 0.3595 | val accuracy: 0.3469\n",
            "Epoch:  6 | train loss: 0.0098 | val loss: 0.1280 | train accuracy: 0.3752 | val accuracy: 0.3707\n",
            "Epoch:  7 | train loss: 0.0095 | val loss: 0.1269 | train accuracy: 0.4093 | val accuracy: 0.3741\n",
            "Epoch:  8 | train loss: 0.0093 | val loss: 0.1255 | train accuracy: 0.4239 | val accuracy: 0.3639\n",
            "Epoch:  9 | train loss: 0.0090 | val loss: 0.1185 | train accuracy: 0.4517 | val accuracy: 0.4456\n",
            "Epoch:  10 | train loss: 0.0086 | val loss: 0.1154 | train accuracy: 0.4717 | val accuracy: 0.4524\n",
            "Epoch:  11 | train loss: 0.0084 | val loss: 0.1104 | train accuracy: 0.4886 | val accuracy: 0.4762\n",
            "Epoch:  12 | train loss: 0.0082 | val loss: 0.1077 | train accuracy: 0.4980 | val accuracy: 0.4524\n",
            "Epoch:  13 | train loss: 0.0079 | val loss: 0.1050 | train accuracy: 0.5090 | val accuracy: 0.4796\n",
            "Epoch:  14 | train loss: 0.0077 | val loss: 0.1055 | train accuracy: 0.5255 | val accuracy: 0.5000\n",
            "Epoch:  15 | train loss: 0.0075 | val loss: 0.1003 | train accuracy: 0.5361 | val accuracy: 0.5102\n",
            "Epoch:  16 | train loss: 0.0073 | val loss: 0.1008 | train accuracy: 0.5408 | val accuracy: 0.5170\n",
            "Epoch:  17 | train loss: 0.0071 | val loss: 0.0962 | train accuracy: 0.5616 | val accuracy: 0.5408\n",
            "Epoch:  18 | train loss: 0.0068 | val loss: 0.0936 | train accuracy: 0.5808 | val accuracy: 0.5408\n",
            "Epoch:  19 | train loss: 0.0065 | val loss: 0.0887 | train accuracy: 0.5954 | val accuracy: 0.5306\n",
            "Epoch:  20 | train loss: 0.0064 | val loss: 0.0892 | train accuracy: 0.6032 | val accuracy: 0.5544\n",
            "Epoch:  21 | train loss: 0.0062 | val loss: 0.0871 | train accuracy: 0.6028 | val accuracy: 0.5340\n",
            "Epoch:  22 | train loss: 0.0060 | val loss: 0.0840 | train accuracy: 0.6177 | val accuracy: 0.5748\n",
            "Epoch:  23 | train loss: 0.0060 | val loss: 0.0840 | train accuracy: 0.6095 | val accuracy: 0.5952\n",
            "Epoch:  24 | train loss: 0.0059 | val loss: 0.0804 | train accuracy: 0.6166 | val accuracy: 0.5816\n",
            "Epoch:  25 | train loss: 0.0056 | val loss: 0.0788 | train accuracy: 0.6409 | val accuracy: 0.6054\n",
            "Epoch:  26 | train loss: 0.0053 | val loss: 0.0738 | train accuracy: 0.6558 | val accuracy: 0.6156\n",
            "Epoch:  27 | train loss: 0.0052 | val loss: 0.0722 | train accuracy: 0.6727 | val accuracy: 0.6361\n",
            "Epoch:  28 | train loss: 0.0051 | val loss: 0.0695 | train accuracy: 0.6829 | val accuracy: 0.6395\n",
            "Epoch:  29 | train loss: 0.0049 | val loss: 0.0698 | train accuracy: 0.6931 | val accuracy: 0.6463\n",
            "Epoch:  30 | train loss: 0.0049 | val loss: 0.0684 | train accuracy: 0.6911 | val accuracy: 0.6361\n",
            "Epoch:  31 | train loss: 0.0048 | val loss: 0.0675 | train accuracy: 0.6966 | val accuracy: 0.6599\n",
            "Epoch:  32 | train loss: 0.0048 | val loss: 0.0672 | train accuracy: 0.7060 | val accuracy: 0.6633\n",
            "Epoch:  33 | train loss: 0.0049 | val loss: 0.0647 | train accuracy: 0.6919 | val accuracy: 0.6497\n",
            "Epoch:  34 | train loss: 0.0045 | val loss: 0.0635 | train accuracy: 0.7119 | val accuracy: 0.6769\n",
            "Epoch:  35 | train loss: 0.0045 | val loss: 0.0627 | train accuracy: 0.7143 | val accuracy: 0.6837\n",
            "Epoch:  36 | train loss: 0.0043 | val loss: 0.0610 | train accuracy: 0.7249 | val accuracy: 0.6939\n",
            "Epoch:  37 | train loss: 0.0043 | val loss: 0.0613 | train accuracy: 0.7237 | val accuracy: 0.6769\n",
            "Epoch:  38 | train loss: 0.0042 | val loss: 0.0579 | train accuracy: 0.7351 | val accuracy: 0.6939\n",
            "Epoch:  39 | train loss: 0.0041 | val loss: 0.0574 | train accuracy: 0.7512 | val accuracy: 0.7041\n",
            "Epoch:  40 | train loss: 0.0040 | val loss: 0.0591 | train accuracy: 0.7425 | val accuracy: 0.7075\n",
            "Epoch:  41 | train loss: 0.0039 | val loss: 0.0577 | train accuracy: 0.7535 | val accuracy: 0.7279\n",
            "Epoch:  42 | train loss: 0.0038 | val loss: 0.0564 | train accuracy: 0.7598 | val accuracy: 0.7347\n",
            "Epoch:  43 | train loss: 0.0039 | val loss: 0.0577 | train accuracy: 0.7488 | val accuracy: 0.7245\n",
            "Epoch:  44 | train loss: 0.0037 | val loss: 0.0556 | train accuracy: 0.7739 | val accuracy: 0.7177\n",
            "Epoch:  45 | train loss: 0.0039 | val loss: 0.0596 | train accuracy: 0.7457 | val accuracy: 0.6905\n",
            "Epoch:  46 | train loss: 0.0037 | val loss: 0.0535 | train accuracy: 0.7618 | val accuracy: 0.7177\n",
            "Epoch:  47 | train loss: 0.0036 | val loss: 0.0537 | train accuracy: 0.7700 | val accuracy: 0.7449\n",
            "Epoch:  48 | train loss: 0.0034 | val loss: 0.0518 | train accuracy: 0.7916 | val accuracy: 0.7279\n",
            "Epoch:  49 | train loss: 0.0033 | val loss: 0.0491 | train accuracy: 0.7912 | val accuracy: 0.7653\n",
            "Epoch:  50 | train loss: 0.0032 | val loss: 0.0492 | train accuracy: 0.7947 | val accuracy: 0.7789\n",
            "Epoch:  51 | train loss: 0.0032 | val loss: 0.0455 | train accuracy: 0.7983 | val accuracy: 0.8061\n",
            "Epoch:  52 | train loss: 0.0030 | val loss: 0.0455 | train accuracy: 0.8120 | val accuracy: 0.7551\n",
            "Epoch:  53 | train loss: 0.0031 | val loss: 0.0486 | train accuracy: 0.8065 | val accuracy: 0.7381\n",
            "Epoch:  54 | train loss: 0.0031 | val loss: 0.0508 | train accuracy: 0.8010 | val accuracy: 0.7585\n",
            "Epoch:  55 | train loss: 0.0030 | val loss: 0.0483 | train accuracy: 0.8120 | val accuracy: 0.7687\n",
            "Epoch:  56 | train loss: 0.0029 | val loss: 0.0438 | train accuracy: 0.8136 | val accuracy: 0.7857\n",
            "Epoch:  57 | train loss: 0.0029 | val loss: 0.0460 | train accuracy: 0.8148 | val accuracy: 0.7891\n",
            "Epoch:  58 | train loss: 0.0029 | val loss: 0.0450 | train accuracy: 0.8175 | val accuracy: 0.7687\n",
            "Epoch:  59 | train loss: 0.0027 | val loss: 0.0437 | train accuracy: 0.8308 | val accuracy: 0.7823\n",
            "Epoch:  60 | train loss: 0.0028 | val loss: 0.0468 | train accuracy: 0.8257 | val accuracy: 0.7687\n",
            "Epoch:  61 | train loss: 0.0027 | val loss: 0.0481 | train accuracy: 0.8316 | val accuracy: 0.8061\n",
            "Epoch:  62 | train loss: 0.0027 | val loss: 0.0414 | train accuracy: 0.8289 | val accuracy: 0.7959\n",
            "Epoch:  63 | train loss: 0.0027 | val loss: 0.0412 | train accuracy: 0.8328 | val accuracy: 0.8163\n",
            "Epoch:  64 | train loss: 0.0027 | val loss: 0.0431 | train accuracy: 0.8324 | val accuracy: 0.8095\n",
            "Epoch:  65 | train loss: 0.0029 | val loss: 0.0516 | train accuracy: 0.8324 | val accuracy: 0.7653\n",
            "Epoch:  66 | train loss: 0.0033 | val loss: 0.0467 | train accuracy: 0.7830 | val accuracy: 0.7653\n",
            "Epoch:  67 | train loss: 0.0028 | val loss: 0.0412 | train accuracy: 0.8179 | val accuracy: 0.8061\n",
            "Epoch:  68 | train loss: 0.0026 | val loss: 0.0407 | train accuracy: 0.8344 | val accuracy: 0.7959\n",
            "Epoch:  69 | train loss: 0.0024 | val loss: 0.0385 | train accuracy: 0.8469 | val accuracy: 0.8231\n",
            "Epoch:  70 | train loss: 0.0025 | val loss: 0.0356 | train accuracy: 0.8395 | val accuracy: 0.8163\n",
            "Epoch:  71 | train loss: 0.0024 | val loss: 0.0368 | train accuracy: 0.8454 | val accuracy: 0.8163\n",
            "Epoch:  72 | train loss: 0.0023 | val loss: 0.0362 | train accuracy: 0.8579 | val accuracy: 0.8265\n",
            "Epoch:  73 | train loss: 0.0022 | val loss: 0.0373 | train accuracy: 0.8630 | val accuracy: 0.8095\n",
            "Epoch:  74 | train loss: 0.0022 | val loss: 0.0350 | train accuracy: 0.8666 | val accuracy: 0.8129\n",
            "Epoch:  75 | train loss: 0.0022 | val loss: 0.0344 | train accuracy: 0.8673 | val accuracy: 0.8299\n",
            "Epoch:  76 | train loss: 0.0021 | val loss: 0.0413 | train accuracy: 0.8728 | val accuracy: 0.8231\n",
            "Epoch:  77 | train loss: 0.0026 | val loss: 0.0398 | train accuracy: 0.8352 | val accuracy: 0.7993\n",
            "Epoch:  78 | train loss: 0.0025 | val loss: 0.0411 | train accuracy: 0.8411 | val accuracy: 0.8027\n",
            "Epoch:  79 | train loss: 0.0023 | val loss: 0.0377 | train accuracy: 0.8548 | val accuracy: 0.8163\n",
            "Epoch:  80 | train loss: 0.0023 | val loss: 0.0370 | train accuracy: 0.8607 | val accuracy: 0.8197\n",
            "Epoch:  81 | train loss: 0.0023 | val loss: 0.0373 | train accuracy: 0.8583 | val accuracy: 0.8163\n",
            "Epoch:  82 | train loss: 0.0021 | val loss: 0.0338 | train accuracy: 0.8650 | val accuracy: 0.8401\n",
            "Epoch:  83 | train loss: 0.0021 | val loss: 0.0350 | train accuracy: 0.8724 | val accuracy: 0.8265\n",
            "Epoch:  84 | train loss: 0.0021 | val loss: 0.0359 | train accuracy: 0.8658 | val accuracy: 0.8231\n",
            "Epoch:  85 | train loss: 0.0021 | val loss: 0.0338 | train accuracy: 0.8634 | val accuracy: 0.8299\n",
            "Epoch:  86 | train loss: 0.0020 | val loss: 0.0334 | train accuracy: 0.8748 | val accuracy: 0.8231\n",
            "Epoch:  87 | train loss: 0.0019 | val loss: 0.0325 | train accuracy: 0.8870 | val accuracy: 0.8333\n",
            "Epoch:  88 | train loss: 0.0019 | val loss: 0.0363 | train accuracy: 0.8827 | val accuracy: 0.8163\n",
            "Epoch:  89 | train loss: 0.0020 | val loss: 0.0361 | train accuracy: 0.8736 | val accuracy: 0.8367\n",
            "Epoch:  90 | train loss: 0.0021 | val loss: 0.0366 | train accuracy: 0.8705 | val accuracy: 0.8265\n",
            "Epoch:  91 | train loss: 0.0021 | val loss: 0.0373 | train accuracy: 0.8611 | val accuracy: 0.8299\n",
            "Epoch:  92 | train loss: 0.0019 | val loss: 0.0330 | train accuracy: 0.8772 | val accuracy: 0.8367\n",
            "Epoch:  93 | train loss: 0.0019 | val loss: 0.0346 | train accuracy: 0.8881 | val accuracy: 0.8367\n",
            "Epoch:  94 | train loss: 0.0019 | val loss: 0.0325 | train accuracy: 0.8823 | val accuracy: 0.8435\n",
            "Epoch:  95 | train loss: 0.0021 | val loss: 0.0373 | train accuracy: 0.8615 | val accuracy: 0.8299\n",
            "Epoch:  96 | train loss: 0.0021 | val loss: 0.0351 | train accuracy: 0.8666 | val accuracy: 0.8231\n",
            "Epoch:  97 | train loss: 0.0019 | val loss: 0.0328 | train accuracy: 0.8787 | val accuracy: 0.8367\n",
            "Epoch:  98 | train loss: 0.0018 | val loss: 0.0308 | train accuracy: 0.8858 | val accuracy: 0.8537\n",
            "Epoch:  99 | train loss: 0.0017 | val loss: 0.0324 | train accuracy: 0.8948 | val accuracy: 0.8435\n",
            "Epoch:  100 | train loss: 0.0017 | val loss: 0.0327 | train accuracy: 0.8999 | val accuracy: 0.8231\n",
            "Epoch:  101 | train loss: 0.0017 | val loss: 0.0319 | train accuracy: 0.8952 | val accuracy: 0.8299\n",
            "Epoch:  102 | train loss: 0.0020 | val loss: 0.0544 | train accuracy: 0.8779 | val accuracy: 0.7483\n",
            "Epoch:  103 | train loss: 0.0026 | val loss: 0.0368 | train accuracy: 0.8375 | val accuracy: 0.8333\n",
            "Epoch:  104 | train loss: 0.0022 | val loss: 0.0362 | train accuracy: 0.8611 | val accuracy: 0.8163\n",
            "Epoch:  105 | train loss: 0.0019 | val loss: 0.0318 | train accuracy: 0.8815 | val accuracy: 0.8469\n",
            "Epoch:  106 | train loss: 0.0018 | val loss: 0.0318 | train accuracy: 0.8925 | val accuracy: 0.8401\n",
            "Epoch:  107 | train loss: 0.0017 | val loss: 0.0376 | train accuracy: 0.9007 | val accuracy: 0.8401\n",
            "Epoch:  108 | train loss: 0.0016 | val loss: 0.0319 | train accuracy: 0.9031 | val accuracy: 0.8367\n",
            "Epoch:  109 | train loss: 0.0017 | val loss: 0.0329 | train accuracy: 0.8940 | val accuracy: 0.8333\n",
            "Epoch:  110 | train loss: 0.0018 | val loss: 0.0382 | train accuracy: 0.8901 | val accuracy: 0.8061\n",
            "Epoch:  111 | train loss: 0.0018 | val loss: 0.0313 | train accuracy: 0.8952 | val accuracy: 0.8639\n",
            "Epoch:  112 | train loss: 0.0016 | val loss: 0.0324 | train accuracy: 0.9054 | val accuracy: 0.8435\n",
            "Epoch:  113 | train loss: 0.0015 | val loss: 0.0304 | train accuracy: 0.9121 | val accuracy: 0.8571\n",
            "Epoch:  114 | train loss: 0.0016 | val loss: 0.0305 | train accuracy: 0.9031 | val accuracy: 0.8435\n",
            "Epoch:  115 | train loss: 0.0016 | val loss: 0.0289 | train accuracy: 0.8991 | val accuracy: 0.8639\n",
            "Epoch:  116 | train loss: 0.0016 | val loss: 0.0289 | train accuracy: 0.9015 | val accuracy: 0.8435\n",
            "Epoch:  117 | train loss: 0.0017 | val loss: 0.0294 | train accuracy: 0.8984 | val accuracy: 0.8503\n",
            "Epoch:  118 | train loss: 0.0017 | val loss: 0.0299 | train accuracy: 0.9011 | val accuracy: 0.8537\n",
            "Epoch:  119 | train loss: 0.0016 | val loss: 0.0282 | train accuracy: 0.9038 | val accuracy: 0.8537\n",
            "Epoch:  120 | train loss: 0.0015 | val loss: 0.0293 | train accuracy: 0.9097 | val accuracy: 0.8537\n",
            "Epoch:  121 | train loss: 0.0015 | val loss: 0.0297 | train accuracy: 0.9164 | val accuracy: 0.8537\n",
            "Epoch:  122 | train loss: 0.0014 | val loss: 0.0307 | train accuracy: 0.9207 | val accuracy: 0.8571\n",
            "Epoch:  123 | train loss: 0.0014 | val loss: 0.0279 | train accuracy: 0.9188 | val accuracy: 0.8776\n",
            "Epoch:  124 | train loss: 0.0015 | val loss: 0.0299 | train accuracy: 0.9097 | val accuracy: 0.8401\n",
            "Epoch:  125 | train loss: 0.0014 | val loss: 0.0307 | train accuracy: 0.9215 | val accuracy: 0.8673\n",
            "Epoch:  126 | train loss: 0.0015 | val loss: 0.0289 | train accuracy: 0.9125 | val accuracy: 0.8537\n",
            "Epoch:  127 | train loss: 0.0015 | val loss: 0.0285 | train accuracy: 0.9117 | val accuracy: 0.8639\n",
            "Epoch:  128 | train loss: 0.0014 | val loss: 0.0319 | train accuracy: 0.9093 | val accuracy: 0.8469\n",
            "Epoch:  129 | train loss: 0.0014 | val loss: 0.0282 | train accuracy: 0.9141 | val accuracy: 0.8673\n",
            "Epoch:  130 | train loss: 0.0014 | val loss: 0.0312 | train accuracy: 0.9133 | val accuracy: 0.8605\n",
            "Epoch:  131 | train loss: 0.0016 | val loss: 0.0290 | train accuracy: 0.9023 | val accuracy: 0.8673\n",
            "Epoch:  132 | train loss: 0.0016 | val loss: 0.0328 | train accuracy: 0.9101 | val accuracy: 0.8401\n",
            "Epoch:  133 | train loss: 0.0016 | val loss: 0.0331 | train accuracy: 0.8948 | val accuracy: 0.8469\n",
            "Epoch:  134 | train loss: 0.0016 | val loss: 0.0286 | train accuracy: 0.8964 | val accuracy: 0.8605\n",
            "Epoch:  135 | train loss: 0.0014 | val loss: 0.0295 | train accuracy: 0.9141 | val accuracy: 0.8503\n",
            "Epoch:  136 | train loss: 0.0013 | val loss: 0.0295 | train accuracy: 0.9266 | val accuracy: 0.8673\n",
            "Epoch:  137 | train loss: 0.0012 | val loss: 0.0284 | train accuracy: 0.9309 | val accuracy: 0.8741\n",
            "Epoch:  138 | train loss: 0.0012 | val loss: 0.0276 | train accuracy: 0.9266 | val accuracy: 0.8707\n",
            "Epoch:  139 | train loss: 0.0012 | val loss: 0.0283 | train accuracy: 0.9278 | val accuracy: 0.8639\n",
            "Epoch:  140 | train loss: 0.0012 | val loss: 0.0324 | train accuracy: 0.9301 | val accuracy: 0.8776\n",
            "Epoch:  141 | train loss: 0.0013 | val loss: 0.0315 | train accuracy: 0.9211 | val accuracy: 0.8605\n",
            "Epoch:  142 | train loss: 0.0013 | val loss: 0.0331 | train accuracy: 0.9297 | val accuracy: 0.8741\n",
            "Epoch:  143 | train loss: 0.0012 | val loss: 0.0367 | train accuracy: 0.9337 | val accuracy: 0.8571\n",
            "Epoch:  144 | train loss: 0.0012 | val loss: 0.0287 | train accuracy: 0.9219 | val accuracy: 0.8605\n",
            "Epoch:  145 | train loss: 0.0014 | val loss: 0.0286 | train accuracy: 0.9184 | val accuracy: 0.8639\n",
            "Epoch:  146 | train loss: 0.0012 | val loss: 0.0283 | train accuracy: 0.9297 | val accuracy: 0.8673\n",
            "Epoch:  147 | train loss: 0.0012 | val loss: 0.0280 | train accuracy: 0.9294 | val accuracy: 0.8707\n",
            "Epoch:  148 | train loss: 0.0012 | val loss: 0.0267 | train accuracy: 0.9262 | val accuracy: 0.8673\n",
            "Epoch:  149 | train loss: 0.0011 | val loss: 0.0263 | train accuracy: 0.9376 | val accuracy: 0.8741\n",
            "Epoch:  150 | train loss: 0.0010 | val loss: 0.0244 | train accuracy: 0.9474 | val accuracy: 0.8946\n",
            "Epoch:  151 | train loss: 0.0011 | val loss: 0.0324 | train accuracy: 0.9411 | val accuracy: 0.8639\n",
            "Epoch:  152 | train loss: 0.0013 | val loss: 0.0275 | train accuracy: 0.9239 | val accuracy: 0.8605\n",
            "Epoch:  153 | train loss: 0.0011 | val loss: 0.0284 | train accuracy: 0.9278 | val accuracy: 0.8639\n",
            "Epoch:  154 | train loss: 0.0018 | val loss: 0.0514 | train accuracy: 0.8823 | val accuracy: 0.7721\n",
            "Epoch:  155 | train loss: 0.0026 | val loss: 0.0400 | train accuracy: 0.8407 | val accuracy: 0.8129\n",
            "Epoch:  156 | train loss: 0.0021 | val loss: 0.0316 | train accuracy: 0.8689 | val accuracy: 0.8333\n",
            "Epoch:  157 | train loss: 0.0017 | val loss: 0.0302 | train accuracy: 0.8976 | val accuracy: 0.8571\n",
            "Epoch:  158 | train loss: 0.0015 | val loss: 0.0269 | train accuracy: 0.9058 | val accuracy: 0.8810\n",
            "Epoch:  159 | train loss: 0.0013 | val loss: 0.0255 | train accuracy: 0.9262 | val accuracy: 0.8776\n",
            "Epoch:  160 | train loss: 0.0012 | val loss: 0.0281 | train accuracy: 0.9250 | val accuracy: 0.8878\n",
            "Epoch:  161 | train loss: 0.0011 | val loss: 0.0235 | train accuracy: 0.9290 | val accuracy: 0.8980\n",
            "Epoch:  162 | train loss: 0.0011 | val loss: 0.0241 | train accuracy: 0.9384 | val accuracy: 0.8878\n",
            "Epoch:  163 | train loss: 0.0010 | val loss: 0.0254 | train accuracy: 0.9423 | val accuracy: 0.8912\n",
            "Epoch:  164 | train loss: 0.0010 | val loss: 0.0233 | train accuracy: 0.9462 | val accuracy: 0.9048\n",
            "Epoch:  165 | train loss: 0.0009 | val loss: 0.0250 | train accuracy: 0.9513 | val accuracy: 0.8844\n",
            "Epoch:  166 | train loss: 0.0010 | val loss: 0.0237 | train accuracy: 0.9427 | val accuracy: 0.8912\n",
            "Epoch:  167 | train loss: 0.0009 | val loss: 0.0239 | train accuracy: 0.9454 | val accuracy: 0.8946\n",
            "Epoch:  168 | train loss: 0.0009 | val loss: 0.0264 | train accuracy: 0.9537 | val accuracy: 0.8844\n",
            "Epoch:  169 | train loss: 0.0009 | val loss: 0.0241 | train accuracy: 0.9482 | val accuracy: 0.8878\n",
            "Epoch:  170 | train loss: 0.0009 | val loss: 0.0258 | train accuracy: 0.9474 | val accuracy: 0.8912\n",
            "Epoch:  171 | train loss: 0.0010 | val loss: 0.0236 | train accuracy: 0.9431 | val accuracy: 0.8912\n",
            "Epoch:  172 | train loss: 0.0011 | val loss: 0.0279 | train accuracy: 0.9309 | val accuracy: 0.8878\n",
            "Epoch:  173 | train loss: 0.0009 | val loss: 0.0245 | train accuracy: 0.9466 | val accuracy: 0.8946\n",
            "Epoch:  174 | train loss: 0.0009 | val loss: 0.0246 | train accuracy: 0.9482 | val accuracy: 0.8946\n",
            "Epoch:  175 | train loss: 0.0009 | val loss: 0.0256 | train accuracy: 0.9439 | val accuracy: 0.8878\n",
            "Epoch:  176 | train loss: 0.0010 | val loss: 0.0314 | train accuracy: 0.9380 | val accuracy: 0.8741\n",
            "Epoch:  177 | train loss: 0.0010 | val loss: 0.0256 | train accuracy: 0.9407 | val accuracy: 0.8878\n",
            "Epoch:  178 | train loss: 0.0011 | val loss: 0.0300 | train accuracy: 0.9376 | val accuracy: 0.8673\n",
            "Epoch:  179 | train loss: 0.0010 | val loss: 0.0295 | train accuracy: 0.9388 | val accuracy: 0.8639\n",
            "Epoch:  180 | train loss: 0.0010 | val loss: 0.0272 | train accuracy: 0.9356 | val accuracy: 0.8776\n",
            "Epoch:  181 | train loss: 0.0009 | val loss: 0.0339 | train accuracy: 0.9505 | val accuracy: 0.8741\n",
            "Epoch:  182 | train loss: 0.0008 | val loss: 0.0245 | train accuracy: 0.9580 | val accuracy: 0.8810\n",
            "Epoch:  183 | train loss: 0.0008 | val loss: 0.0230 | train accuracy: 0.9521 | val accuracy: 0.8912\n",
            "Epoch:  184 | train loss: 0.0008 | val loss: 0.0248 | train accuracy: 0.9560 | val accuracy: 0.8810\n",
            "Epoch:  185 | train loss: 0.0009 | val loss: 0.0243 | train accuracy: 0.9486 | val accuracy: 0.8912\n",
            "Epoch:  186 | train loss: 0.0009 | val loss: 0.0277 | train accuracy: 0.9447 | val accuracy: 0.8741\n",
            "Epoch:  187 | train loss: 0.0010 | val loss: 0.0260 | train accuracy: 0.9427 | val accuracy: 0.8810\n",
            "Epoch:  188 | train loss: 0.0009 | val loss: 0.0245 | train accuracy: 0.9466 | val accuracy: 0.8844\n",
            "Epoch:  189 | train loss: 0.0010 | val loss: 0.0272 | train accuracy: 0.9423 | val accuracy: 0.8776\n",
            "Epoch:  190 | train loss: 0.0009 | val loss: 0.0233 | train accuracy: 0.9454 | val accuracy: 0.8844\n",
            "Epoch:  191 | train loss: 0.0008 | val loss: 0.0221 | train accuracy: 0.9564 | val accuracy: 0.9116\n",
            "Epoch:  192 | train loss: 0.0007 | val loss: 0.0222 | train accuracy: 0.9604 | val accuracy: 0.9014\n",
            "Epoch:  193 | train loss: 0.0007 | val loss: 0.0289 | train accuracy: 0.9639 | val accuracy: 0.8810\n",
            "Epoch:  194 | train loss: 0.0007 | val loss: 0.0236 | train accuracy: 0.9647 | val accuracy: 0.8980\n",
            "Epoch:  195 | train loss: 0.0007 | val loss: 0.0289 | train accuracy: 0.9635 | val accuracy: 0.8844\n",
            "Epoch:  196 | train loss: 0.0007 | val loss: 0.0223 | train accuracy: 0.9631 | val accuracy: 0.8980\n",
            "Epoch:  197 | train loss: 0.0008 | val loss: 0.0246 | train accuracy: 0.9529 | val accuracy: 0.8810\n",
            "Epoch:  198 | train loss: 0.0010 | val loss: 0.0347 | train accuracy: 0.9439 | val accuracy: 0.8503\n",
            "Epoch:  199 | train loss: 0.0012 | val loss: 0.0437 | train accuracy: 0.9278 | val accuracy: 0.8503\n",
            "Learning rate 0.001, gru layers 2, hidden_layers 80, dropout 0.3\n",
            "GRU(\n",
            "  (GRU): GRU(1, 80, num_layers=2, batch_first=True, dropout=0.3)\n",
            "  (out): Linear(in_features=80, out_features=15, bias=True)\n",
            ")\n",
            "Epoch:  0 | train loss: 0.0145 | val loss: 0.1769 | train accuracy: 0.1319 | val accuracy: 0.1293\n",
            "Epoch:  1 | train loss: 0.0128 | val loss: 0.1608 | train accuracy: 0.1393 | val accuracy: 0.1361\n",
            "Epoch:  2 | train loss: 0.0122 | val loss: 0.1577 | train accuracy: 0.1778 | val accuracy: 0.2585\n",
            "Epoch:  3 | train loss: 0.0116 | val loss: 0.1469 | train accuracy: 0.2527 | val accuracy: 0.2721\n",
            "Epoch:  4 | train loss: 0.0108 | val loss: 0.1393 | train accuracy: 0.3261 | val accuracy: 0.2687\n",
            "Epoch:  5 | train loss: 0.0102 | val loss: 0.1321 | train accuracy: 0.3685 | val accuracy: 0.3061\n",
            "Epoch:  6 | train loss: 0.0098 | val loss: 0.1291 | train accuracy: 0.3968 | val accuracy: 0.3605\n",
            "Epoch:  7 | train loss: 0.0095 | val loss: 0.1273 | train accuracy: 0.4101 | val accuracy: 0.3741\n",
            "Epoch:  8 | train loss: 0.0093 | val loss: 0.1239 | train accuracy: 0.4105 | val accuracy: 0.3707\n",
            "Epoch:  9 | train loss: 0.0091 | val loss: 0.1219 | train accuracy: 0.4297 | val accuracy: 0.3844\n",
            "Epoch:  10 | train loss: 0.0089 | val loss: 0.1178 | train accuracy: 0.4345 | val accuracy: 0.4116\n",
            "Epoch:  11 | train loss: 0.0086 | val loss: 0.1147 | train accuracy: 0.4541 | val accuracy: 0.4184\n",
            "Epoch:  12 | train loss: 0.0084 | val loss: 0.1157 | train accuracy: 0.4882 | val accuracy: 0.4252\n",
            "Epoch:  13 | train loss: 0.0081 | val loss: 0.1109 | train accuracy: 0.4988 | val accuracy: 0.4490\n",
            "Epoch:  14 | train loss: 0.0079 | val loss: 0.1071 | train accuracy: 0.5204 | val accuracy: 0.4796\n",
            "Epoch:  15 | train loss: 0.0077 | val loss: 0.1074 | train accuracy: 0.5184 | val accuracy: 0.4660\n",
            "Epoch:  16 | train loss: 0.0077 | val loss: 0.1055 | train accuracy: 0.5204 | val accuracy: 0.4864\n",
            "Epoch:  17 | train loss: 0.0074 | val loss: 0.1009 | train accuracy: 0.5224 | val accuracy: 0.4898\n",
            "Epoch:  18 | train loss: 0.0073 | val loss: 0.0987 | train accuracy: 0.5420 | val accuracy: 0.5034\n",
            "Epoch:  19 | train loss: 0.0075 | val loss: 0.0962 | train accuracy: 0.5271 | val accuracy: 0.5204\n",
            "Epoch:  20 | train loss: 0.0072 | val loss: 0.0940 | train accuracy: 0.5479 | val accuracy: 0.5170\n",
            "Epoch:  21 | train loss: 0.0070 | val loss: 0.0941 | train accuracy: 0.5475 | val accuracy: 0.5476\n",
            "Epoch:  22 | train loss: 0.0067 | val loss: 0.0960 | train accuracy: 0.5828 | val accuracy: 0.5136\n",
            "Epoch:  23 | train loss: 0.0066 | val loss: 0.0885 | train accuracy: 0.5891 | val accuracy: 0.5646\n",
            "Epoch:  24 | train loss: 0.0064 | val loss: 0.0891 | train accuracy: 0.6134 | val accuracy: 0.5680\n",
            "Epoch:  25 | train loss: 0.0061 | val loss: 0.0804 | train accuracy: 0.6256 | val accuracy: 0.6122\n",
            "Epoch:  26 | train loss: 0.0060 | val loss: 0.0830 | train accuracy: 0.6311 | val accuracy: 0.5680\n",
            "Epoch:  27 | train loss: 0.0060 | val loss: 0.0861 | train accuracy: 0.6421 | val accuracy: 0.5884\n",
            "Epoch:  28 | train loss: 0.0057 | val loss: 0.0763 | train accuracy: 0.6570 | val accuracy: 0.6395\n",
            "Epoch:  29 | train loss: 0.0055 | val loss: 0.0752 | train accuracy: 0.6644 | val accuracy: 0.6156\n",
            "Epoch:  30 | train loss: 0.0053 | val loss: 0.0714 | train accuracy: 0.6707 | val accuracy: 0.6293\n",
            "Epoch:  31 | train loss: 0.0052 | val loss: 0.0722 | train accuracy: 0.6778 | val accuracy: 0.6429\n",
            "Epoch:  32 | train loss: 0.0051 | val loss: 0.0718 | train accuracy: 0.6770 | val accuracy: 0.6429\n",
            "Epoch:  33 | train loss: 0.0052 | val loss: 0.0684 | train accuracy: 0.6727 | val accuracy: 0.6327\n",
            "Epoch:  34 | train loss: 0.0051 | val loss: 0.0728 | train accuracy: 0.6692 | val accuracy: 0.6497\n",
            "Epoch:  35 | train loss: 0.0054 | val loss: 0.0799 | train accuracy: 0.6652 | val accuracy: 0.6224\n",
            "Epoch:  36 | train loss: 0.0056 | val loss: 0.0719 | train accuracy: 0.6405 | val accuracy: 0.5986\n",
            "Epoch:  37 | train loss: 0.0049 | val loss: 0.0656 | train accuracy: 0.6888 | val accuracy: 0.6735\n",
            "Epoch:  38 | train loss: 0.0047 | val loss: 0.0631 | train accuracy: 0.6903 | val accuracy: 0.6667\n",
            "Epoch:  39 | train loss: 0.0046 | val loss: 0.0613 | train accuracy: 0.6970 | val accuracy: 0.6803\n",
            "Epoch:  40 | train loss: 0.0045 | val loss: 0.0647 | train accuracy: 0.7092 | val accuracy: 0.6701\n",
            "Epoch:  41 | train loss: 0.0045 | val loss: 0.0635 | train accuracy: 0.7115 | val accuracy: 0.6973\n",
            "Epoch:  42 | train loss: 0.0044 | val loss: 0.0626 | train accuracy: 0.7186 | val accuracy: 0.6973\n",
            "Epoch:  43 | train loss: 0.0042 | val loss: 0.0601 | train accuracy: 0.7272 | val accuracy: 0.6939\n",
            "Epoch:  44 | train loss: 0.0041 | val loss: 0.0550 | train accuracy: 0.7347 | val accuracy: 0.7041\n",
            "Epoch:  45 | train loss: 0.0040 | val loss: 0.0542 | train accuracy: 0.7433 | val accuracy: 0.7279\n",
            "Epoch:  46 | train loss: 0.0039 | val loss: 0.0566 | train accuracy: 0.7441 | val accuracy: 0.7109\n",
            "Epoch:  47 | train loss: 0.0039 | val loss: 0.0542 | train accuracy: 0.7473 | val accuracy: 0.7211\n",
            "Epoch:  48 | train loss: 0.0038 | val loss: 0.0558 | train accuracy: 0.7520 | val accuracy: 0.7347\n",
            "Epoch:  49 | train loss: 0.0039 | val loss: 0.0539 | train accuracy: 0.7476 | val accuracy: 0.7177\n",
            "Epoch:  50 | train loss: 0.0040 | val loss: 0.0488 | train accuracy: 0.7469 | val accuracy: 0.7585\n",
            "Epoch:  51 | train loss: 0.0037 | val loss: 0.0512 | train accuracy: 0.7716 | val accuracy: 0.7415\n",
            "Epoch:  52 | train loss: 0.0036 | val loss: 0.0506 | train accuracy: 0.7728 | val accuracy: 0.7721\n",
            "Epoch:  53 | train loss: 0.0036 | val loss: 0.0474 | train accuracy: 0.7728 | val accuracy: 0.7823\n",
            "Epoch:  54 | train loss: 0.0034 | val loss: 0.0478 | train accuracy: 0.7857 | val accuracy: 0.7891\n",
            "Epoch:  55 | train loss: 0.0034 | val loss: 0.0477 | train accuracy: 0.7838 | val accuracy: 0.7687\n",
            "Epoch:  56 | train loss: 0.0034 | val loss: 0.0461 | train accuracy: 0.7798 | val accuracy: 0.7959\n",
            "Epoch:  57 | train loss: 0.0033 | val loss: 0.0456 | train accuracy: 0.7971 | val accuracy: 0.8027\n",
            "Epoch:  58 | train loss: 0.0032 | val loss: 0.0464 | train accuracy: 0.8002 | val accuracy: 0.7891\n",
            "Epoch:  59 | train loss: 0.0032 | val loss: 0.0466 | train accuracy: 0.8030 | val accuracy: 0.7823\n",
            "Epoch:  60 | train loss: 0.0035 | val loss: 0.0495 | train accuracy: 0.7802 | val accuracy: 0.7585\n",
            "Epoch:  61 | train loss: 0.0035 | val loss: 0.0438 | train accuracy: 0.7857 | val accuracy: 0.7857\n",
            "Epoch:  62 | train loss: 0.0032 | val loss: 0.0444 | train accuracy: 0.7900 | val accuracy: 0.7653\n",
            "Epoch:  63 | train loss: 0.0031 | val loss: 0.0477 | train accuracy: 0.8097 | val accuracy: 0.7551\n",
            "Epoch:  64 | train loss: 0.0033 | val loss: 0.0427 | train accuracy: 0.7920 | val accuracy: 0.7857\n",
            "Epoch:  65 | train loss: 0.0029 | val loss: 0.0395 | train accuracy: 0.8261 | val accuracy: 0.8197\n",
            "Epoch:  66 | train loss: 0.0029 | val loss: 0.0407 | train accuracy: 0.8238 | val accuracy: 0.8095\n",
            "Epoch:  67 | train loss: 0.0030 | val loss: 0.0388 | train accuracy: 0.8136 | val accuracy: 0.8231\n",
            "Epoch:  68 | train loss: 0.0028 | val loss: 0.0375 | train accuracy: 0.8265 | val accuracy: 0.8299\n",
            "Epoch:  69 | train loss: 0.0027 | val loss: 0.0377 | train accuracy: 0.8395 | val accuracy: 0.8367\n",
            "Epoch:  70 | train loss: 0.0026 | val loss: 0.0345 | train accuracy: 0.8414 | val accuracy: 0.8197\n",
            "Epoch:  71 | train loss: 0.0025 | val loss: 0.0339 | train accuracy: 0.8493 | val accuracy: 0.8299\n",
            "Epoch:  72 | train loss: 0.0025 | val loss: 0.0391 | train accuracy: 0.8403 | val accuracy: 0.8299\n",
            "Epoch:  73 | train loss: 0.0025 | val loss: 0.0345 | train accuracy: 0.8462 | val accuracy: 0.8163\n",
            "Epoch:  74 | train loss: 0.0025 | val loss: 0.0334 | train accuracy: 0.8426 | val accuracy: 0.8367\n",
            "Epoch:  75 | train loss: 0.0024 | val loss: 0.0344 | train accuracy: 0.8528 | val accuracy: 0.8401\n",
            "Epoch:  76 | train loss: 0.0023 | val loss: 0.0320 | train accuracy: 0.8540 | val accuracy: 0.8333\n",
            "Epoch:  77 | train loss: 0.0023 | val loss: 0.0338 | train accuracy: 0.8560 | val accuracy: 0.8469\n",
            "Epoch:  78 | train loss: 0.0023 | val loss: 0.0354 | train accuracy: 0.8595 | val accuracy: 0.8503\n",
            "Epoch:  79 | train loss: 0.0023 | val loss: 0.0349 | train accuracy: 0.8489 | val accuracy: 0.8299\n",
            "Epoch:  80 | train loss: 0.0024 | val loss: 0.0359 | train accuracy: 0.8418 | val accuracy: 0.8095\n",
            "Epoch:  81 | train loss: 0.0024 | val loss: 0.0339 | train accuracy: 0.8422 | val accuracy: 0.8401\n",
            "Epoch:  82 | train loss: 0.0022 | val loss: 0.0347 | train accuracy: 0.8619 | val accuracy: 0.8605\n",
            "Epoch:  83 | train loss: 0.0021 | val loss: 0.0311 | train accuracy: 0.8748 | val accuracy: 0.8571\n",
            "Epoch:  84 | train loss: 0.0022 | val loss: 0.0315 | train accuracy: 0.8619 | val accuracy: 0.8503\n",
            "Epoch:  85 | train loss: 0.0021 | val loss: 0.0334 | train accuracy: 0.8650 | val accuracy: 0.8503\n",
            "Epoch:  86 | train loss: 0.0022 | val loss: 0.0365 | train accuracy: 0.8552 | val accuracy: 0.8333\n",
            "Epoch:  87 | train loss: 0.0023 | val loss: 0.0326 | train accuracy: 0.8571 | val accuracy: 0.8605\n",
            "Epoch:  88 | train loss: 0.0021 | val loss: 0.0287 | train accuracy: 0.8670 | val accuracy: 0.8537\n",
            "Epoch:  89 | train loss: 0.0021 | val loss: 0.0304 | train accuracy: 0.8670 | val accuracy: 0.8673\n",
            "Epoch:  90 | train loss: 0.0019 | val loss: 0.0327 | train accuracy: 0.8834 | val accuracy: 0.8469\n",
            "Epoch:  91 | train loss: 0.0019 | val loss: 0.0298 | train accuracy: 0.8779 | val accuracy: 0.8605\n",
            "Epoch:  92 | train loss: 0.0020 | val loss: 0.0296 | train accuracy: 0.8752 | val accuracy: 0.8639\n",
            "Epoch:  93 | train loss: 0.0021 | val loss: 0.0349 | train accuracy: 0.8611 | val accuracy: 0.8435\n",
            "Epoch:  94 | train loss: 0.0023 | val loss: 0.0306 | train accuracy: 0.8634 | val accuracy: 0.8537\n",
            "Epoch:  95 | train loss: 0.0020 | val loss: 0.0296 | train accuracy: 0.8732 | val accuracy: 0.8605\n",
            "Epoch:  96 | train loss: 0.0020 | val loss: 0.0273 | train accuracy: 0.8732 | val accuracy: 0.8571\n",
            "Epoch:  97 | train loss: 0.0020 | val loss: 0.0283 | train accuracy: 0.8764 | val accuracy: 0.8469\n",
            "Epoch:  98 | train loss: 0.0019 | val loss: 0.0284 | train accuracy: 0.8744 | val accuracy: 0.8605\n",
            "Epoch:  99 | train loss: 0.0019 | val loss: 0.0255 | train accuracy: 0.8783 | val accuracy: 0.8639\n",
            "Epoch:  100 | train loss: 0.0019 | val loss: 0.0281 | train accuracy: 0.8854 | val accuracy: 0.8503\n",
            "Epoch:  101 | train loss: 0.0019 | val loss: 0.0259 | train accuracy: 0.8787 | val accuracy: 0.8810\n",
            "Epoch:  102 | train loss: 0.0019 | val loss: 0.0258 | train accuracy: 0.8815 | val accuracy: 0.8707\n",
            "Epoch:  103 | train loss: 0.0018 | val loss: 0.0264 | train accuracy: 0.8870 | val accuracy: 0.8673\n",
            "Epoch:  104 | train loss: 0.0018 | val loss: 0.0248 | train accuracy: 0.8823 | val accuracy: 0.8741\n",
            "Epoch:  105 | train loss: 0.0017 | val loss: 0.0245 | train accuracy: 0.8874 | val accuracy: 0.8673\n",
            "Epoch:  106 | train loss: 0.0016 | val loss: 0.0240 | train accuracy: 0.8944 | val accuracy: 0.8810\n",
            "Epoch:  107 | train loss: 0.0016 | val loss: 0.0237 | train accuracy: 0.9007 | val accuracy: 0.8810\n",
            "Epoch:  108 | train loss: 0.0016 | val loss: 0.0262 | train accuracy: 0.8956 | val accuracy: 0.8741\n",
            "Epoch:  109 | train loss: 0.0019 | val loss: 0.0248 | train accuracy: 0.8783 | val accuracy: 0.8741\n",
            "Epoch:  110 | train loss: 0.0017 | val loss: 0.0263 | train accuracy: 0.8984 | val accuracy: 0.8707\n",
            "Epoch:  111 | train loss: 0.0016 | val loss: 0.0247 | train accuracy: 0.9050 | val accuracy: 0.8810\n",
            "Epoch:  112 | train loss: 0.0015 | val loss: 0.0233 | train accuracy: 0.9042 | val accuracy: 0.8878\n",
            "Epoch:  113 | train loss: 0.0014 | val loss: 0.0205 | train accuracy: 0.9109 | val accuracy: 0.8946\n",
            "Epoch:  114 | train loss: 0.0015 | val loss: 0.0207 | train accuracy: 0.9144 | val accuracy: 0.9014\n",
            "Epoch:  115 | train loss: 0.0015 | val loss: 0.0215 | train accuracy: 0.9117 | val accuracy: 0.8946\n",
            "Epoch:  116 | train loss: 0.0015 | val loss: 0.0275 | train accuracy: 0.9007 | val accuracy: 0.8844\n",
            "Epoch:  117 | train loss: 0.0015 | val loss: 0.0229 | train accuracy: 0.9046 | val accuracy: 0.9014\n",
            "Epoch:  118 | train loss: 0.0015 | val loss: 0.0228 | train accuracy: 0.9082 | val accuracy: 0.8810\n",
            "Epoch:  119 | train loss: 0.0015 | val loss: 0.0231 | train accuracy: 0.9038 | val accuracy: 0.8912\n",
            "Epoch:  120 | train loss: 0.0014 | val loss: 0.0234 | train accuracy: 0.9137 | val accuracy: 0.8810\n",
            "Epoch:  121 | train loss: 0.0014 | val loss: 0.0205 | train accuracy: 0.9117 | val accuracy: 0.8912\n",
            "Epoch:  122 | train loss: 0.0013 | val loss: 0.0211 | train accuracy: 0.9211 | val accuracy: 0.8980\n",
            "Epoch:  123 | train loss: 0.0014 | val loss: 0.0230 | train accuracy: 0.9109 | val accuracy: 0.8912\n",
            "Epoch:  124 | train loss: 0.0014 | val loss: 0.0222 | train accuracy: 0.9160 | val accuracy: 0.8878\n",
            "Epoch:  125 | train loss: 0.0013 | val loss: 0.0221 | train accuracy: 0.9160 | val accuracy: 0.8707\n",
            "Epoch:  126 | train loss: 0.0013 | val loss: 0.0225 | train accuracy: 0.9199 | val accuracy: 0.8741\n",
            "Epoch:  127 | train loss: 0.0012 | val loss: 0.0203 | train accuracy: 0.9254 | val accuracy: 0.8946\n",
            "Epoch:  128 | train loss: 0.0012 | val loss: 0.0184 | train accuracy: 0.9294 | val accuracy: 0.9150\n",
            "Epoch:  129 | train loss: 0.0013 | val loss: 0.0234 | train accuracy: 0.9141 | val accuracy: 0.8673\n",
            "Epoch:  130 | train loss: 0.0015 | val loss: 0.0221 | train accuracy: 0.9031 | val accuracy: 0.8776\n",
            "Epoch:  131 | train loss: 0.0015 | val loss: 0.0201 | train accuracy: 0.9058 | val accuracy: 0.8707\n",
            "Epoch:  132 | train loss: 0.0013 | val loss: 0.0280 | train accuracy: 0.9211 | val accuracy: 0.8503\n",
            "Epoch:  133 | train loss: 0.0014 | val loss: 0.0194 | train accuracy: 0.9086 | val accuracy: 0.8912\n",
            "Epoch:  134 | train loss: 0.0015 | val loss: 0.0233 | train accuracy: 0.9046 | val accuracy: 0.8741\n",
            "Epoch:  135 | train loss: 0.0013 | val loss: 0.0214 | train accuracy: 0.9184 | val accuracy: 0.8946\n",
            "Epoch:  136 | train loss: 0.0012 | val loss: 0.0201 | train accuracy: 0.9235 | val accuracy: 0.8878\n",
            "Epoch:  137 | train loss: 0.0013 | val loss: 0.0211 | train accuracy: 0.9235 | val accuracy: 0.8980\n",
            "Epoch:  138 | train loss: 0.0011 | val loss: 0.0216 | train accuracy: 0.9349 | val accuracy: 0.8810\n",
            "Epoch:  139 | train loss: 0.0012 | val loss: 0.0187 | train accuracy: 0.9305 | val accuracy: 0.9014\n",
            "Epoch:  140 | train loss: 0.0012 | val loss: 0.0252 | train accuracy: 0.9254 | val accuracy: 0.8776\n",
            "Epoch:  141 | train loss: 0.0013 | val loss: 0.0205 | train accuracy: 0.9219 | val accuracy: 0.8844\n",
            "Epoch:  142 | train loss: 0.0012 | val loss: 0.0222 | train accuracy: 0.9215 | val accuracy: 0.8844\n",
            "Epoch:  143 | train loss: 0.0012 | val loss: 0.0209 | train accuracy: 0.9282 | val accuracy: 0.8980\n",
            "Epoch:  144 | train loss: 0.0014 | val loss: 0.0194 | train accuracy: 0.9089 | val accuracy: 0.9014\n",
            "Epoch:  145 | train loss: 0.0013 | val loss: 0.0195 | train accuracy: 0.9211 | val accuracy: 0.9014\n",
            "Epoch:  146 | train loss: 0.0011 | val loss: 0.0209 | train accuracy: 0.9368 | val accuracy: 0.8912\n",
            "Epoch:  147 | train loss: 0.0010 | val loss: 0.0196 | train accuracy: 0.9415 | val accuracy: 0.8980\n",
            "Epoch:  148 | train loss: 0.0012 | val loss: 0.0299 | train accuracy: 0.9313 | val accuracy: 0.8673\n",
            "Epoch:  149 | train loss: 0.0015 | val loss: 0.0221 | train accuracy: 0.9031 | val accuracy: 0.8878\n",
            "Epoch:  150 | train loss: 0.0013 | val loss: 0.0256 | train accuracy: 0.9215 | val accuracy: 0.8741\n",
            "Epoch:  151 | train loss: 0.0012 | val loss: 0.0249 | train accuracy: 0.9262 | val accuracy: 0.8776\n",
            "Epoch:  152 | train loss: 0.0012 | val loss: 0.0221 | train accuracy: 0.9313 | val accuracy: 0.8844\n",
            "Epoch:  153 | train loss: 0.0012 | val loss: 0.0213 | train accuracy: 0.9321 | val accuracy: 0.8912\n",
            "Epoch:  154 | train loss: 0.0012 | val loss: 0.0177 | train accuracy: 0.9250 | val accuracy: 0.9014\n",
            "Epoch:  155 | train loss: 0.0011 | val loss: 0.0193 | train accuracy: 0.9297 | val accuracy: 0.8980\n",
            "Epoch:  156 | train loss: 0.0010 | val loss: 0.0185 | train accuracy: 0.9451 | val accuracy: 0.9048\n",
            "Epoch:  157 | train loss: 0.0011 | val loss: 0.0218 | train accuracy: 0.9384 | val accuracy: 0.8810\n",
            "Epoch:  158 | train loss: 0.0010 | val loss: 0.0246 | train accuracy: 0.9400 | val accuracy: 0.8639\n",
            "Epoch:  159 | train loss: 0.0020 | val loss: 0.0300 | train accuracy: 0.8783 | val accuracy: 0.8401\n",
            "Epoch:  160 | train loss: 0.0016 | val loss: 0.0257 | train accuracy: 0.9042 | val accuracy: 0.8605\n",
            "Epoch:  161 | train loss: 0.0014 | val loss: 0.0213 | train accuracy: 0.9188 | val accuracy: 0.8707\n",
            "Epoch:  162 | train loss: 0.0011 | val loss: 0.0209 | train accuracy: 0.9368 | val accuracy: 0.8946\n",
            "Epoch:  163 | train loss: 0.0010 | val loss: 0.0201 | train accuracy: 0.9478 | val accuracy: 0.8878\n",
            "Epoch:  164 | train loss: 0.0010 | val loss: 0.0191 | train accuracy: 0.9454 | val accuracy: 0.8946\n",
            "Epoch:  165 | train loss: 0.0009 | val loss: 0.0208 | train accuracy: 0.9494 | val accuracy: 0.8878\n",
            "Epoch:  166 | train loss: 0.0010 | val loss: 0.0200 | train accuracy: 0.9443 | val accuracy: 0.8912\n",
            "Epoch:  167 | train loss: 0.0009 | val loss: 0.0182 | train accuracy: 0.9486 | val accuracy: 0.8980\n",
            "Epoch:  168 | train loss: 0.0009 | val loss: 0.0178 | train accuracy: 0.9419 | val accuracy: 0.9014\n",
            "Epoch:  169 | train loss: 0.0009 | val loss: 0.0223 | train accuracy: 0.9478 | val accuracy: 0.8912\n",
            "Epoch:  170 | train loss: 0.0009 | val loss: 0.0206 | train accuracy: 0.9466 | val accuracy: 0.8810\n",
            "Epoch:  171 | train loss: 0.0010 | val loss: 0.0164 | train accuracy: 0.9466 | val accuracy: 0.9048\n",
            "Epoch:  172 | train loss: 0.0010 | val loss: 0.0239 | train accuracy: 0.9388 | val accuracy: 0.8776\n",
            "Epoch:  173 | train loss: 0.0008 | val loss: 0.0170 | train accuracy: 0.9529 | val accuracy: 0.8912\n",
            "Epoch:  174 | train loss: 0.0008 | val loss: 0.0170 | train accuracy: 0.9537 | val accuracy: 0.9116\n",
            "Epoch:  175 | train loss: 0.0008 | val loss: 0.0217 | train accuracy: 0.9596 | val accuracy: 0.8844\n",
            "Epoch:  176 | train loss: 0.0008 | val loss: 0.0185 | train accuracy: 0.9545 | val accuracy: 0.8980\n",
            "Epoch:  177 | train loss: 0.0009 | val loss: 0.0218 | train accuracy: 0.9505 | val accuracy: 0.8844\n",
            "Epoch:  178 | train loss: 0.0009 | val loss: 0.0215 | train accuracy: 0.9439 | val accuracy: 0.9014\n",
            "Epoch:  179 | train loss: 0.0008 | val loss: 0.0213 | train accuracy: 0.9557 | val accuracy: 0.8878\n",
            "Epoch:  180 | train loss: 0.0009 | val loss: 0.0179 | train accuracy: 0.9447 | val accuracy: 0.9014\n",
            "Epoch:  181 | train loss: 0.0009 | val loss: 0.0196 | train accuracy: 0.9533 | val accuracy: 0.9014\n",
            "Epoch:  182 | train loss: 0.0009 | val loss: 0.0194 | train accuracy: 0.9447 | val accuracy: 0.8878\n",
            "Epoch:  183 | train loss: 0.0008 | val loss: 0.0198 | train accuracy: 0.9608 | val accuracy: 0.8912\n",
            "Epoch:  184 | train loss: 0.0009 | val loss: 0.0231 | train accuracy: 0.9490 | val accuracy: 0.8810\n",
            "Epoch:  185 | train loss: 0.0008 | val loss: 0.0231 | train accuracy: 0.9517 | val accuracy: 0.8844\n",
            "Epoch:  186 | train loss: 0.0008 | val loss: 0.0191 | train accuracy: 0.9541 | val accuracy: 0.8946\n",
            "Epoch:  187 | train loss: 0.0007 | val loss: 0.0176 | train accuracy: 0.9568 | val accuracy: 0.9048\n",
            "Epoch:  188 | train loss: 0.0010 | val loss: 0.0240 | train accuracy: 0.9392 | val accuracy: 0.8571\n",
            "Epoch:  189 | train loss: 0.0010 | val loss: 0.0263 | train accuracy: 0.9376 | val accuracy: 0.8707\n",
            "Epoch:  190 | train loss: 0.0010 | val loss: 0.0185 | train accuracy: 0.9376 | val accuracy: 0.9048\n",
            "Epoch:  191 | train loss: 0.0008 | val loss: 0.0165 | train accuracy: 0.9490 | val accuracy: 0.9014\n",
            "Epoch:  192 | train loss: 0.0008 | val loss: 0.0162 | train accuracy: 0.9502 | val accuracy: 0.9082\n",
            "Epoch:  193 | train loss: 0.0007 | val loss: 0.0155 | train accuracy: 0.9592 | val accuracy: 0.9150\n",
            "Epoch:  194 | train loss: 0.0007 | val loss: 0.0162 | train accuracy: 0.9580 | val accuracy: 0.9150\n",
            "Epoch:  195 | train loss: 0.0007 | val loss: 0.0162 | train accuracy: 0.9647 | val accuracy: 0.8980\n",
            "Epoch:  196 | train loss: 0.0007 | val loss: 0.0177 | train accuracy: 0.9572 | val accuracy: 0.8878\n",
            "Epoch:  197 | train loss: 0.0007 | val loss: 0.0157 | train accuracy: 0.9627 | val accuracy: 0.9048\n",
            "Epoch:  198 | train loss: 0.0006 | val loss: 0.0153 | train accuracy: 0.9670 | val accuracy: 0.9116\n",
            "Epoch:  199 | train loss: 0.0006 | val loss: 0.0151 | train accuracy: 0.9639 | val accuracy: 0.9082\n",
            "Learning rate 0.001, gru layers 2, hidden_layers 80, dropout 0.5\n",
            "GRU(\n",
            "  (GRU): GRU(1, 80, num_layers=2, batch_first=True, dropout=0.5)\n",
            "  (out): Linear(in_features=80, out_features=15, bias=True)\n",
            ")\n",
            "Epoch:  0 | train loss: 0.0146 | val loss: 0.1808 | train accuracy: 0.1389 | val accuracy: 0.1361\n",
            "Epoch:  1 | train loss: 0.0130 | val loss: 0.1635 | train accuracy: 0.1381 | val accuracy: 0.1361\n",
            "Epoch:  2 | train loss: 0.0122 | val loss: 0.1568 | train accuracy: 0.1778 | val accuracy: 0.2959\n",
            "Epoch:  3 | train loss: 0.0117 | val loss: 0.1475 | train accuracy: 0.2190 | val accuracy: 0.2687\n",
            "Epoch:  4 | train loss: 0.0109 | val loss: 0.1360 | train accuracy: 0.3222 | val accuracy: 0.3197\n",
            "Epoch:  5 | train loss: 0.0102 | val loss: 0.1325 | train accuracy: 0.3744 | val accuracy: 0.2993\n",
            "Epoch:  6 | train loss: 0.0097 | val loss: 0.1262 | train accuracy: 0.3858 | val accuracy: 0.3503\n",
            "Epoch:  7 | train loss: 0.0094 | val loss: 0.1249 | train accuracy: 0.4270 | val accuracy: 0.3980\n",
            "Epoch:  8 | train loss: 0.0091 | val loss: 0.1187 | train accuracy: 0.4333 | val accuracy: 0.3912\n",
            "Epoch:  9 | train loss: 0.0088 | val loss: 0.1142 | train accuracy: 0.4317 | val accuracy: 0.4218\n",
            "Epoch:  10 | train loss: 0.0085 | val loss: 0.1132 | train accuracy: 0.4823 | val accuracy: 0.4286\n",
            "Epoch:  11 | train loss: 0.0082 | val loss: 0.1115 | train accuracy: 0.4973 | val accuracy: 0.4456\n",
            "Epoch:  12 | train loss: 0.0081 | val loss: 0.1095 | train accuracy: 0.5043 | val accuracy: 0.4660\n",
            "Epoch:  13 | train loss: 0.0078 | val loss: 0.1053 | train accuracy: 0.5145 | val accuracy: 0.5034\n",
            "Epoch:  14 | train loss: 0.0076 | val loss: 0.1013 | train accuracy: 0.5318 | val accuracy: 0.5102\n",
            "Epoch:  15 | train loss: 0.0076 | val loss: 0.0997 | train accuracy: 0.5110 | val accuracy: 0.4932\n",
            "Epoch:  16 | train loss: 0.0073 | val loss: 0.0957 | train accuracy: 0.5416 | val accuracy: 0.5068\n",
            "Epoch:  17 | train loss: 0.0071 | val loss: 0.0946 | train accuracy: 0.5502 | val accuracy: 0.5068\n",
            "Epoch:  18 | train loss: 0.0070 | val loss: 0.0939 | train accuracy: 0.5518 | val accuracy: 0.5204\n",
            "Epoch:  19 | train loss: 0.0069 | val loss: 0.1011 | train accuracy: 0.5522 | val accuracy: 0.5136\n",
            "Epoch:  20 | train loss: 0.0071 | val loss: 0.0964 | train accuracy: 0.5498 | val accuracy: 0.5000\n",
            "Epoch:  21 | train loss: 0.0068 | val loss: 0.0921 | train accuracy: 0.5683 | val accuracy: 0.5374\n",
            "Epoch:  22 | train loss: 0.0067 | val loss: 0.0930 | train accuracy: 0.5597 | val accuracy: 0.5340\n",
            "Epoch:  23 | train loss: 0.0065 | val loss: 0.0885 | train accuracy: 0.5824 | val accuracy: 0.5408\n",
            "Epoch:  24 | train loss: 0.0064 | val loss: 0.0888 | train accuracy: 0.5883 | val accuracy: 0.5510\n",
            "Epoch:  25 | train loss: 0.0063 | val loss: 0.0858 | train accuracy: 0.6044 | val accuracy: 0.5476\n",
            "Epoch:  26 | train loss: 0.0061 | val loss: 0.0829 | train accuracy: 0.6126 | val accuracy: 0.5680\n",
            "Epoch:  27 | train loss: 0.0060 | val loss: 0.0814 | train accuracy: 0.6260 | val accuracy: 0.5544\n",
            "Epoch:  28 | train loss: 0.0059 | val loss: 0.0786 | train accuracy: 0.6291 | val accuracy: 0.5850\n",
            "Epoch:  29 | train loss: 0.0057 | val loss: 0.0764 | train accuracy: 0.6381 | val accuracy: 0.5918\n",
            "Epoch:  30 | train loss: 0.0057 | val loss: 0.0801 | train accuracy: 0.6397 | val accuracy: 0.6088\n",
            "Epoch:  31 | train loss: 0.0055 | val loss: 0.0738 | train accuracy: 0.6503 | val accuracy: 0.6429\n",
            "Epoch:  32 | train loss: 0.0053 | val loss: 0.0735 | train accuracy: 0.6703 | val accuracy: 0.6156\n",
            "Epoch:  33 | train loss: 0.0052 | val loss: 0.0700 | train accuracy: 0.6794 | val accuracy: 0.6463\n",
            "Epoch:  34 | train loss: 0.0051 | val loss: 0.0693 | train accuracy: 0.6813 | val accuracy: 0.6361\n",
            "Epoch:  35 | train loss: 0.0050 | val loss: 0.0730 | train accuracy: 0.6907 | val accuracy: 0.6088\n",
            "Epoch:  36 | train loss: 0.0050 | val loss: 0.0692 | train accuracy: 0.6833 | val accuracy: 0.6701\n",
            "Epoch:  37 | train loss: 0.0048 | val loss: 0.0649 | train accuracy: 0.7084 | val accuracy: 0.6735\n",
            "Epoch:  38 | train loss: 0.0046 | val loss: 0.0612 | train accuracy: 0.7217 | val accuracy: 0.6905\n",
            "Epoch:  39 | train loss: 0.0045 | val loss: 0.0610 | train accuracy: 0.7390 | val accuracy: 0.7041\n",
            "Epoch:  40 | train loss: 0.0044 | val loss: 0.0621 | train accuracy: 0.7343 | val accuracy: 0.6973\n",
            "Epoch:  41 | train loss: 0.0043 | val loss: 0.0569 | train accuracy: 0.7453 | val accuracy: 0.7245\n",
            "Epoch:  42 | train loss: 0.0042 | val loss: 0.0572 | train accuracy: 0.7492 | val accuracy: 0.7381\n",
            "Epoch:  43 | train loss: 0.0041 | val loss: 0.0592 | train accuracy: 0.7504 | val accuracy: 0.7211\n",
            "Epoch:  44 | train loss: 0.0042 | val loss: 0.0591 | train accuracy: 0.7445 | val accuracy: 0.7143\n",
            "Epoch:  45 | train loss: 0.0041 | val loss: 0.0580 | train accuracy: 0.7476 | val accuracy: 0.6871\n",
            "Epoch:  46 | train loss: 0.0040 | val loss: 0.0546 | train accuracy: 0.7488 | val accuracy: 0.7143\n",
            "Epoch:  47 | train loss: 0.0040 | val loss: 0.0538 | train accuracy: 0.7673 | val accuracy: 0.7279\n",
            "Epoch:  48 | train loss: 0.0038 | val loss: 0.0566 | train accuracy: 0.7677 | val accuracy: 0.7347\n",
            "Epoch:  49 | train loss: 0.0037 | val loss: 0.0520 | train accuracy: 0.7806 | val accuracy: 0.7483\n",
            "Epoch:  50 | train loss: 0.0037 | val loss: 0.0518 | train accuracy: 0.7771 | val accuracy: 0.7619\n",
            "Epoch:  51 | train loss: 0.0037 | val loss: 0.0498 | train accuracy: 0.7810 | val accuracy: 0.7619\n",
            "Epoch:  52 | train loss: 0.0035 | val loss: 0.0494 | train accuracy: 0.7951 | val accuracy: 0.7313\n",
            "Epoch:  53 | train loss: 0.0034 | val loss: 0.0464 | train accuracy: 0.7983 | val accuracy: 0.7653\n",
            "Epoch:  54 | train loss: 0.0033 | val loss: 0.0502 | train accuracy: 0.7967 | val accuracy: 0.7721\n",
            "Epoch:  55 | train loss: 0.0033 | val loss: 0.0436 | train accuracy: 0.8049 | val accuracy: 0.7721\n",
            "Epoch:  56 | train loss: 0.0032 | val loss: 0.0436 | train accuracy: 0.8069 | val accuracy: 0.7755\n",
            "Epoch:  57 | train loss: 0.0031 | val loss: 0.0413 | train accuracy: 0.8104 | val accuracy: 0.7755\n",
            "Epoch:  58 | train loss: 0.0032 | val loss: 0.0438 | train accuracy: 0.8136 | val accuracy: 0.7789\n",
            "Epoch:  59 | train loss: 0.0032 | val loss: 0.0428 | train accuracy: 0.8006 | val accuracy: 0.7789\n",
            "Epoch:  60 | train loss: 0.0031 | val loss: 0.0401 | train accuracy: 0.8093 | val accuracy: 0.7925\n",
            "Epoch:  61 | train loss: 0.0031 | val loss: 0.0444 | train accuracy: 0.8089 | val accuracy: 0.7619\n",
            "Epoch:  62 | train loss: 0.0031 | val loss: 0.0404 | train accuracy: 0.8128 | val accuracy: 0.7925\n",
            "Epoch:  63 | train loss: 0.0029 | val loss: 0.0397 | train accuracy: 0.8203 | val accuracy: 0.7925\n",
            "Epoch:  64 | train loss: 0.0028 | val loss: 0.0386 | train accuracy: 0.8340 | val accuracy: 0.7857\n",
            "Epoch:  65 | train loss: 0.0030 | val loss: 0.0422 | train accuracy: 0.8187 | val accuracy: 0.7959\n",
            "Epoch:  66 | train loss: 0.0029 | val loss: 0.0370 | train accuracy: 0.8238 | val accuracy: 0.8027\n",
            "Epoch:  67 | train loss: 0.0027 | val loss: 0.0369 | train accuracy: 0.8363 | val accuracy: 0.7959\n",
            "Epoch:  68 | train loss: 0.0027 | val loss: 0.0390 | train accuracy: 0.8332 | val accuracy: 0.7959\n",
            "Epoch:  69 | train loss: 0.0027 | val loss: 0.0394 | train accuracy: 0.8336 | val accuracy: 0.7993\n",
            "Epoch:  70 | train loss: 0.0027 | val loss: 0.0369 | train accuracy: 0.8336 | val accuracy: 0.8129\n",
            "Epoch:  71 | train loss: 0.0027 | val loss: 0.0390 | train accuracy: 0.8301 | val accuracy: 0.7993\n",
            "Epoch:  72 | train loss: 0.0027 | val loss: 0.0341 | train accuracy: 0.8446 | val accuracy: 0.8129\n",
            "Epoch:  73 | train loss: 0.0028 | val loss: 0.0400 | train accuracy: 0.8281 | val accuracy: 0.7755\n",
            "Epoch:  74 | train loss: 0.0028 | val loss: 0.0403 | train accuracy: 0.8254 | val accuracy: 0.7959\n",
            "Epoch:  75 | train loss: 0.0027 | val loss: 0.0354 | train accuracy: 0.8383 | val accuracy: 0.8163\n",
            "Epoch:  76 | train loss: 0.0027 | val loss: 0.0357 | train accuracy: 0.8285 | val accuracy: 0.7959\n",
            "Epoch:  77 | train loss: 0.0025 | val loss: 0.0351 | train accuracy: 0.8465 | val accuracy: 0.8163\n",
            "Epoch:  78 | train loss: 0.0024 | val loss: 0.0324 | train accuracy: 0.8520 | val accuracy: 0.8333\n",
            "Epoch:  79 | train loss: 0.0023 | val loss: 0.0319 | train accuracy: 0.8571 | val accuracy: 0.8265\n",
            "Epoch:  80 | train loss: 0.0024 | val loss: 0.0347 | train accuracy: 0.8501 | val accuracy: 0.8197\n",
            "Epoch:  81 | train loss: 0.0026 | val loss: 0.0328 | train accuracy: 0.8414 | val accuracy: 0.8299\n",
            "Epoch:  82 | train loss: 0.0024 | val loss: 0.0324 | train accuracy: 0.8568 | val accuracy: 0.8163\n",
            "Epoch:  83 | train loss: 0.0024 | val loss: 0.0353 | train accuracy: 0.8599 | val accuracy: 0.8299\n",
            "Epoch:  84 | train loss: 0.0024 | val loss: 0.0305 | train accuracy: 0.8524 | val accuracy: 0.8333\n",
            "Epoch:  85 | train loss: 0.0024 | val loss: 0.0352 | train accuracy: 0.8591 | val accuracy: 0.8095\n",
            "Epoch:  86 | train loss: 0.0023 | val loss: 0.0323 | train accuracy: 0.8646 | val accuracy: 0.8401\n",
            "Epoch:  87 | train loss: 0.0023 | val loss: 0.0347 | train accuracy: 0.8630 | val accuracy: 0.8367\n",
            "Epoch:  88 | train loss: 0.0024 | val loss: 0.0330 | train accuracy: 0.8556 | val accuracy: 0.8299\n",
            "Epoch:  89 | train loss: 0.0022 | val loss: 0.0298 | train accuracy: 0.8709 | val accuracy: 0.8469\n",
            "Epoch:  90 | train loss: 0.0022 | val loss: 0.0332 | train accuracy: 0.8670 | val accuracy: 0.8299\n",
            "Epoch:  91 | train loss: 0.0021 | val loss: 0.0321 | train accuracy: 0.8768 | val accuracy: 0.8367\n",
            "Epoch:  92 | train loss: 0.0021 | val loss: 0.0348 | train accuracy: 0.8768 | val accuracy: 0.8401\n",
            "Epoch:  93 | train loss: 0.0022 | val loss: 0.0294 | train accuracy: 0.8740 | val accuracy: 0.8435\n",
            "Epoch:  94 | train loss: 0.0021 | val loss: 0.0317 | train accuracy: 0.8693 | val accuracy: 0.8537\n",
            "Epoch:  95 | train loss: 0.0021 | val loss: 0.0334 | train accuracy: 0.8744 | val accuracy: 0.8469\n",
            "Epoch:  96 | train loss: 0.0024 | val loss: 0.0378 | train accuracy: 0.8642 | val accuracy: 0.8197\n",
            "Epoch:  97 | train loss: 0.0025 | val loss: 0.0371 | train accuracy: 0.8458 | val accuracy: 0.8231\n",
            "Epoch:  98 | train loss: 0.0023 | val loss: 0.0347 | train accuracy: 0.8658 | val accuracy: 0.8231\n",
            "Epoch:  99 | train loss: 0.0022 | val loss: 0.0304 | train accuracy: 0.8689 | val accuracy: 0.8537\n",
            "Epoch:  100 | train loss: 0.0021 | val loss: 0.0330 | train accuracy: 0.8744 | val accuracy: 0.8435\n",
            "Epoch:  101 | train loss: 0.0020 | val loss: 0.0298 | train accuracy: 0.8827 | val accuracy: 0.8503\n",
            "Epoch:  102 | train loss: 0.0019 | val loss: 0.0296 | train accuracy: 0.8850 | val accuracy: 0.8469\n",
            "Epoch:  103 | train loss: 0.0019 | val loss: 0.0320 | train accuracy: 0.8893 | val accuracy: 0.8367\n",
            "Epoch:  104 | train loss: 0.0019 | val loss: 0.0270 | train accuracy: 0.8893 | val accuracy: 0.8537\n",
            "Epoch:  105 | train loss: 0.0020 | val loss: 0.0324 | train accuracy: 0.8901 | val accuracy: 0.8299\n",
            "Epoch:  106 | train loss: 0.0020 | val loss: 0.0266 | train accuracy: 0.8830 | val accuracy: 0.8571\n",
            "Epoch:  107 | train loss: 0.0019 | val loss: 0.0283 | train accuracy: 0.8874 | val accuracy: 0.8537\n",
            "Epoch:  108 | train loss: 0.0019 | val loss: 0.0314 | train accuracy: 0.8858 | val accuracy: 0.8231\n",
            "Epoch:  109 | train loss: 0.0020 | val loss: 0.0282 | train accuracy: 0.8776 | val accuracy: 0.8503\n",
            "Epoch:  110 | train loss: 0.0020 | val loss: 0.0292 | train accuracy: 0.8807 | val accuracy: 0.8367\n",
            "Epoch:  111 | train loss: 0.0019 | val loss: 0.0312 | train accuracy: 0.8827 | val accuracy: 0.8265\n",
            "Epoch:  112 | train loss: 0.0019 | val loss: 0.0266 | train accuracy: 0.8830 | val accuracy: 0.8537\n",
            "Epoch:  113 | train loss: 0.0019 | val loss: 0.0273 | train accuracy: 0.8917 | val accuracy: 0.8367\n",
            "Epoch:  114 | train loss: 0.0019 | val loss: 0.0284 | train accuracy: 0.8850 | val accuracy: 0.8435\n",
            "Epoch:  115 | train loss: 0.0018 | val loss: 0.0289 | train accuracy: 0.8984 | val accuracy: 0.8503\n",
            "Epoch:  116 | train loss: 0.0018 | val loss: 0.0308 | train accuracy: 0.8929 | val accuracy: 0.8231\n",
            "Epoch:  117 | train loss: 0.0018 | val loss: 0.0303 | train accuracy: 0.8940 | val accuracy: 0.8639\n",
            "Epoch:  118 | train loss: 0.0019 | val loss: 0.0301 | train accuracy: 0.8823 | val accuracy: 0.8197\n",
            "Epoch:  119 | train loss: 0.0020 | val loss: 0.0302 | train accuracy: 0.8779 | val accuracy: 0.8129\n",
            "Epoch:  120 | train loss: 0.0019 | val loss: 0.0283 | train accuracy: 0.8854 | val accuracy: 0.8503\n",
            "Epoch:  121 | train loss: 0.0018 | val loss: 0.0293 | train accuracy: 0.8885 | val accuracy: 0.8401\n",
            "Epoch:  122 | train loss: 0.0018 | val loss: 0.0281 | train accuracy: 0.8858 | val accuracy: 0.8571\n",
            "Epoch:  123 | train loss: 0.0018 | val loss: 0.0284 | train accuracy: 0.8917 | val accuracy: 0.8571\n",
            "Epoch:  124 | train loss: 0.0017 | val loss: 0.0270 | train accuracy: 0.8976 | val accuracy: 0.8503\n",
            "Epoch:  125 | train loss: 0.0017 | val loss: 0.0246 | train accuracy: 0.9058 | val accuracy: 0.8571\n",
            "Epoch:  126 | train loss: 0.0017 | val loss: 0.0273 | train accuracy: 0.8980 | val accuracy: 0.8469\n",
            "Epoch:  127 | train loss: 0.0016 | val loss: 0.0248 | train accuracy: 0.8987 | val accuracy: 0.8605\n",
            "Epoch:  128 | train loss: 0.0019 | val loss: 0.0252 | train accuracy: 0.8795 | val accuracy: 0.8503\n",
            "Epoch:  129 | train loss: 0.0019 | val loss: 0.0252 | train accuracy: 0.8842 | val accuracy: 0.8503\n",
            "Epoch:  130 | train loss: 0.0016 | val loss: 0.0257 | train accuracy: 0.9054 | val accuracy: 0.8503\n",
            "Epoch:  131 | train loss: 0.0016 | val loss: 0.0243 | train accuracy: 0.9027 | val accuracy: 0.8605\n",
            "Epoch:  132 | train loss: 0.0016 | val loss: 0.0247 | train accuracy: 0.9082 | val accuracy: 0.8503\n",
            "Epoch:  133 | train loss: 0.0015 | val loss: 0.0249 | train accuracy: 0.9113 | val accuracy: 0.8571\n",
            "Epoch:  134 | train loss: 0.0015 | val loss: 0.0263 | train accuracy: 0.9082 | val accuracy: 0.8605\n",
            "Epoch:  135 | train loss: 0.0016 | val loss: 0.0396 | train accuracy: 0.9070 | val accuracy: 0.8027\n",
            "Epoch:  136 | train loss: 0.0020 | val loss: 0.0305 | train accuracy: 0.8795 | val accuracy: 0.8333\n",
            "Epoch:  137 | train loss: 0.0020 | val loss: 0.0255 | train accuracy: 0.8791 | val accuracy: 0.8401\n",
            "Epoch:  138 | train loss: 0.0017 | val loss: 0.0251 | train accuracy: 0.8929 | val accuracy: 0.8537\n",
            "Epoch:  139 | train loss: 0.0016 | val loss: 0.0263 | train accuracy: 0.8999 | val accuracy: 0.8333\n",
            "Epoch:  140 | train loss: 0.0017 | val loss: 0.0266 | train accuracy: 0.8984 | val accuracy: 0.8503\n",
            "Epoch:  141 | train loss: 0.0017 | val loss: 0.0284 | train accuracy: 0.8984 | val accuracy: 0.8435\n",
            "Epoch:  142 | train loss: 0.0017 | val loss: 0.0250 | train accuracy: 0.8952 | val accuracy: 0.8537\n",
            "Epoch:  143 | train loss: 0.0015 | val loss: 0.0256 | train accuracy: 0.9086 | val accuracy: 0.8605\n",
            "Epoch:  144 | train loss: 0.0016 | val loss: 0.0270 | train accuracy: 0.8984 | val accuracy: 0.8435\n",
            "Epoch:  145 | train loss: 0.0016 | val loss: 0.0255 | train accuracy: 0.8999 | val accuracy: 0.8469\n",
            "Epoch:  146 | train loss: 0.0015 | val loss: 0.0301 | train accuracy: 0.9141 | val accuracy: 0.8333\n",
            "Epoch:  147 | train loss: 0.0015 | val loss: 0.0273 | train accuracy: 0.9062 | val accuracy: 0.8401\n",
            "Epoch:  148 | train loss: 0.0015 | val loss: 0.0238 | train accuracy: 0.9097 | val accuracy: 0.8537\n",
            "Epoch:  149 | train loss: 0.0015 | val loss: 0.0282 | train accuracy: 0.9168 | val accuracy: 0.8537\n",
            "Epoch:  150 | train loss: 0.0015 | val loss: 0.0234 | train accuracy: 0.9066 | val accuracy: 0.8537\n",
            "Epoch:  151 | train loss: 0.0016 | val loss: 0.0252 | train accuracy: 0.9042 | val accuracy: 0.8503\n",
            "Epoch:  152 | train loss: 0.0015 | val loss: 0.0284 | train accuracy: 0.9062 | val accuracy: 0.8469\n",
            "Epoch:  153 | train loss: 0.0016 | val loss: 0.0259 | train accuracy: 0.9015 | val accuracy: 0.8367\n",
            "Epoch:  154 | train loss: 0.0016 | val loss: 0.0306 | train accuracy: 0.9003 | val accuracy: 0.8333\n",
            "Epoch:  155 | train loss: 0.0018 | val loss: 0.0335 | train accuracy: 0.8932 | val accuracy: 0.8299\n",
            "Epoch:  156 | train loss: 0.0016 | val loss: 0.0241 | train accuracy: 0.9038 | val accuracy: 0.8537\n",
            "Epoch:  157 | train loss: 0.0016 | val loss: 0.0309 | train accuracy: 0.9062 | val accuracy: 0.8231\n",
            "Epoch:  158 | train loss: 0.0015 | val loss: 0.0250 | train accuracy: 0.9144 | val accuracy: 0.8537\n",
            "Epoch:  159 | train loss: 0.0013 | val loss: 0.0228 | train accuracy: 0.9219 | val accuracy: 0.8401\n",
            "Epoch:  160 | train loss: 0.0013 | val loss: 0.0221 | train accuracy: 0.9227 | val accuracy: 0.8605\n",
            "Epoch:  161 | train loss: 0.0013 | val loss: 0.0291 | train accuracy: 0.9211 | val accuracy: 0.8537\n",
            "Epoch:  162 | train loss: 0.0014 | val loss: 0.0278 | train accuracy: 0.9129 | val accuracy: 0.8435\n",
            "Epoch:  163 | train loss: 0.0015 | val loss: 0.0289 | train accuracy: 0.9105 | val accuracy: 0.8401\n",
            "Epoch:  164 | train loss: 0.0014 | val loss: 0.0294 | train accuracy: 0.9141 | val accuracy: 0.8537\n",
            "Epoch:  165 | train loss: 0.0014 | val loss: 0.0277 | train accuracy: 0.9121 | val accuracy: 0.8401\n",
            "Epoch:  166 | train loss: 0.0013 | val loss: 0.0255 | train accuracy: 0.9215 | val accuracy: 0.8707\n",
            "Epoch:  167 | train loss: 0.0012 | val loss: 0.0228 | train accuracy: 0.9313 | val accuracy: 0.8605\n",
            "Epoch:  168 | train loss: 0.0013 | val loss: 0.0251 | train accuracy: 0.9235 | val accuracy: 0.8503\n",
            "Epoch:  169 | train loss: 0.0013 | val loss: 0.0258 | train accuracy: 0.9278 | val accuracy: 0.8367\n",
            "Epoch:  170 | train loss: 0.0014 | val loss: 0.0246 | train accuracy: 0.9172 | val accuracy: 0.8571\n",
            "Epoch:  171 | train loss: 0.0014 | val loss: 0.0286 | train accuracy: 0.9141 | val accuracy: 0.8469\n",
            "Epoch:  172 | train loss: 0.0013 | val loss: 0.0266 | train accuracy: 0.9262 | val accuracy: 0.8333\n",
            "Epoch:  173 | train loss: 0.0012 | val loss: 0.0258 | train accuracy: 0.9309 | val accuracy: 0.8469\n",
            "Epoch:  174 | train loss: 0.0011 | val loss: 0.0224 | train accuracy: 0.9325 | val accuracy: 0.8537\n",
            "Epoch:  175 | train loss: 0.0012 | val loss: 0.0244 | train accuracy: 0.9305 | val accuracy: 0.8503\n",
            "Epoch:  176 | train loss: 0.0012 | val loss: 0.0247 | train accuracy: 0.9309 | val accuracy: 0.8503\n",
            "Epoch:  177 | train loss: 0.0012 | val loss: 0.0287 | train accuracy: 0.9235 | val accuracy: 0.8401\n",
            "Epoch:  178 | train loss: 0.0012 | val loss: 0.0220 | train accuracy: 0.9317 | val accuracy: 0.8503\n",
            "Epoch:  179 | train loss: 0.0012 | val loss: 0.0249 | train accuracy: 0.9286 | val accuracy: 0.8707\n",
            "Epoch:  180 | train loss: 0.0012 | val loss: 0.0263 | train accuracy: 0.9297 | val accuracy: 0.8503\n",
            "Epoch:  181 | train loss: 0.0014 | val loss: 0.0304 | train accuracy: 0.9141 | val accuracy: 0.8503\n",
            "Epoch:  182 | train loss: 0.0013 | val loss: 0.0312 | train accuracy: 0.9172 | val accuracy: 0.8435\n",
            "Epoch:  183 | train loss: 0.0012 | val loss: 0.0262 | train accuracy: 0.9305 | val accuracy: 0.8367\n",
            "Epoch:  184 | train loss: 0.0015 | val loss: 0.0283 | train accuracy: 0.9078 | val accuracy: 0.8231\n",
            "Epoch:  185 | train loss: 0.0015 | val loss: 0.0297 | train accuracy: 0.9019 | val accuracy: 0.8299\n",
            "Epoch:  186 | train loss: 0.0014 | val loss: 0.0289 | train accuracy: 0.9129 | val accuracy: 0.8503\n",
            "Epoch:  187 | train loss: 0.0013 | val loss: 0.0238 | train accuracy: 0.9188 | val accuracy: 0.8571\n",
            "Epoch:  188 | train loss: 0.0012 | val loss: 0.0229 | train accuracy: 0.9254 | val accuracy: 0.8605\n",
            "Epoch:  189 | train loss: 0.0011 | val loss: 0.0242 | train accuracy: 0.9341 | val accuracy: 0.8571\n",
            "Epoch:  190 | train loss: 0.0012 | val loss: 0.0235 | train accuracy: 0.9329 | val accuracy: 0.8571\n",
            "Epoch:  191 | train loss: 0.0013 | val loss: 0.0259 | train accuracy: 0.9223 | val accuracy: 0.8537\n",
            "Epoch:  192 | train loss: 0.0013 | val loss: 0.0243 | train accuracy: 0.9231 | val accuracy: 0.8503\n",
            "Epoch:  193 | train loss: 0.0012 | val loss: 0.0243 | train accuracy: 0.9321 | val accuracy: 0.8537\n",
            "Epoch:  194 | train loss: 0.0011 | val loss: 0.0225 | train accuracy: 0.9345 | val accuracy: 0.8537\n",
            "Epoch:  195 | train loss: 0.0011 | val loss: 0.0236 | train accuracy: 0.9423 | val accuracy: 0.8605\n",
            "Epoch:  196 | train loss: 0.0011 | val loss: 0.0235 | train accuracy: 0.9345 | val accuracy: 0.8639\n",
            "Epoch:  197 | train loss: 0.0012 | val loss: 0.0209 | train accuracy: 0.9278 | val accuracy: 0.8707\n",
            "Epoch:  198 | train loss: 0.0012 | val loss: 0.0244 | train accuracy: 0.9290 | val accuracy: 0.8537\n",
            "Epoch:  199 | train loss: 0.0010 | val loss: 0.0222 | train accuracy: 0.9419 | val accuracy: 0.8503\n",
            "Learning rate 0.001, gru layers 2, hidden_layers 80, dropout 0.7\n",
            "GRU(\n",
            "  (GRU): GRU(1, 80, num_layers=2, batch_first=True, dropout=0.7)\n",
            "  (out): Linear(in_features=80, out_features=15, bias=True)\n",
            ")\n",
            "Epoch:  0 | train loss: 0.0145 | val loss: 0.1795 | train accuracy: 0.1209 | val accuracy: 0.1497\n",
            "Epoch:  1 | train loss: 0.0130 | val loss: 0.1630 | train accuracy: 0.1546 | val accuracy: 0.1361\n",
            "Epoch:  2 | train loss: 0.0122 | val loss: 0.1556 | train accuracy: 0.1735 | val accuracy: 0.2211\n",
            "Epoch:  3 | train loss: 0.0117 | val loss: 0.1480 | train accuracy: 0.2261 | val accuracy: 0.2211\n",
            "Epoch:  4 | train loss: 0.0110 | val loss: 0.1407 | train accuracy: 0.3226 | val accuracy: 0.3129\n",
            "Epoch:  5 | train loss: 0.0102 | val loss: 0.1322 | train accuracy: 0.3626 | val accuracy: 0.3435\n",
            "Epoch:  6 | train loss: 0.0097 | val loss: 0.1290 | train accuracy: 0.3850 | val accuracy: 0.3095\n",
            "Epoch:  7 | train loss: 0.0094 | val loss: 0.1257 | train accuracy: 0.4042 | val accuracy: 0.3912\n",
            "Epoch:  8 | train loss: 0.0092 | val loss: 0.1206 | train accuracy: 0.4113 | val accuracy: 0.3810\n",
            "Epoch:  9 | train loss: 0.0090 | val loss: 0.1232 | train accuracy: 0.4211 | val accuracy: 0.3673\n",
            "Epoch:  10 | train loss: 0.0089 | val loss: 0.1195 | train accuracy: 0.4368 | val accuracy: 0.4082\n",
            "Epoch:  11 | train loss: 0.0087 | val loss: 0.1135 | train accuracy: 0.4454 | val accuracy: 0.4320\n",
            "Epoch:  12 | train loss: 0.0084 | val loss: 0.1120 | train accuracy: 0.4662 | val accuracy: 0.4558\n",
            "Epoch:  13 | train loss: 0.0082 | val loss: 0.1081 | train accuracy: 0.4914 | val accuracy: 0.4626\n",
            "Epoch:  14 | train loss: 0.0081 | val loss: 0.1063 | train accuracy: 0.4894 | val accuracy: 0.4490\n",
            "Epoch:  15 | train loss: 0.0079 | val loss: 0.1036 | train accuracy: 0.4902 | val accuracy: 0.4728\n",
            "Epoch:  16 | train loss: 0.0077 | val loss: 0.1053 | train accuracy: 0.5082 | val accuracy: 0.4728\n",
            "Epoch:  17 | train loss: 0.0077 | val loss: 0.1013 | train accuracy: 0.5247 | val accuracy: 0.4796\n",
            "Epoch:  18 | train loss: 0.0075 | val loss: 0.0981 | train accuracy: 0.5353 | val accuracy: 0.4728\n",
            "Epoch:  19 | train loss: 0.0073 | val loss: 0.0977 | train accuracy: 0.5491 | val accuracy: 0.4898\n",
            "Epoch:  20 | train loss: 0.0071 | val loss: 0.0986 | train accuracy: 0.5750 | val accuracy: 0.4830\n",
            "Epoch:  21 | train loss: 0.0069 | val loss: 0.0935 | train accuracy: 0.5805 | val accuracy: 0.5340\n",
            "Epoch:  22 | train loss: 0.0068 | val loss: 0.0906 | train accuracy: 0.5954 | val accuracy: 0.5612\n",
            "Epoch:  23 | train loss: 0.0066 | val loss: 0.0909 | train accuracy: 0.5997 | val accuracy: 0.5510\n",
            "Epoch:  24 | train loss: 0.0063 | val loss: 0.0885 | train accuracy: 0.6177 | val accuracy: 0.5578\n",
            "Epoch:  25 | train loss: 0.0063 | val loss: 0.0850 | train accuracy: 0.6166 | val accuracy: 0.5578\n",
            "Epoch:  26 | train loss: 0.0061 | val loss: 0.0869 | train accuracy: 0.6240 | val accuracy: 0.5748\n",
            "Epoch:  27 | train loss: 0.0060 | val loss: 0.0859 | train accuracy: 0.6283 | val accuracy: 0.5816\n",
            "Epoch:  28 | train loss: 0.0059 | val loss: 0.0795 | train accuracy: 0.6272 | val accuracy: 0.5748\n",
            "Epoch:  29 | train loss: 0.0058 | val loss: 0.0772 | train accuracy: 0.6327 | val accuracy: 0.5918\n",
            "Epoch:  30 | train loss: 0.0057 | val loss: 0.0795 | train accuracy: 0.6389 | val accuracy: 0.5952\n",
            "Epoch:  31 | train loss: 0.0057 | val loss: 0.0766 | train accuracy: 0.6436 | val accuracy: 0.6156\n",
            "Epoch:  32 | train loss: 0.0056 | val loss: 0.0796 | train accuracy: 0.6503 | val accuracy: 0.5850\n",
            "Epoch:  33 | train loss: 0.0055 | val loss: 0.0758 | train accuracy: 0.6574 | val accuracy: 0.6020\n",
            "Epoch:  34 | train loss: 0.0054 | val loss: 0.0774 | train accuracy: 0.6609 | val accuracy: 0.6122\n",
            "Epoch:  35 | train loss: 0.0054 | val loss: 0.0747 | train accuracy: 0.6586 | val accuracy: 0.6122\n",
            "Epoch:  36 | train loss: 0.0053 | val loss: 0.0730 | train accuracy: 0.6672 | val accuracy: 0.6429\n",
            "Epoch:  37 | train loss: 0.0052 | val loss: 0.0748 | train accuracy: 0.6715 | val accuracy: 0.6224\n",
            "Epoch:  38 | train loss: 0.0051 | val loss: 0.0705 | train accuracy: 0.6801 | val accuracy: 0.6327\n",
            "Epoch:  39 | train loss: 0.0051 | val loss: 0.0668 | train accuracy: 0.6813 | val accuracy: 0.6395\n",
            "Epoch:  40 | train loss: 0.0051 | val loss: 0.0686 | train accuracy: 0.6782 | val accuracy: 0.6395\n",
            "Epoch:  41 | train loss: 0.0051 | val loss: 0.0723 | train accuracy: 0.6750 | val accuracy: 0.6259\n",
            "Epoch:  42 | train loss: 0.0050 | val loss: 0.0663 | train accuracy: 0.6931 | val accuracy: 0.6803\n",
            "Epoch:  43 | train loss: 0.0048 | val loss: 0.0659 | train accuracy: 0.7084 | val accuracy: 0.6667\n",
            "Epoch:  44 | train loss: 0.0049 | val loss: 0.0697 | train accuracy: 0.6982 | val accuracy: 0.6667\n",
            "Epoch:  45 | train loss: 0.0048 | val loss: 0.0729 | train accuracy: 0.7025 | val accuracy: 0.6531\n",
            "Epoch:  46 | train loss: 0.0048 | val loss: 0.0627 | train accuracy: 0.6966 | val accuracy: 0.6599\n",
            "Epoch:  47 | train loss: 0.0047 | val loss: 0.0618 | train accuracy: 0.7084 | val accuracy: 0.6871\n",
            "Epoch:  48 | train loss: 0.0046 | val loss: 0.0616 | train accuracy: 0.7221 | val accuracy: 0.7075\n",
            "Epoch:  49 | train loss: 0.0045 | val loss: 0.0627 | train accuracy: 0.7225 | val accuracy: 0.7075\n",
            "Epoch:  50 | train loss: 0.0044 | val loss: 0.0599 | train accuracy: 0.7351 | val accuracy: 0.7075\n",
            "Epoch:  51 | train loss: 0.0044 | val loss: 0.0632 | train accuracy: 0.7382 | val accuracy: 0.7041\n",
            "Epoch:  52 | train loss: 0.0043 | val loss: 0.0642 | train accuracy: 0.7449 | val accuracy: 0.7109\n",
            "Epoch:  53 | train loss: 0.0042 | val loss: 0.0602 | train accuracy: 0.7429 | val accuracy: 0.7109\n",
            "Epoch:  54 | train loss: 0.0042 | val loss: 0.0599 | train accuracy: 0.7504 | val accuracy: 0.7109\n",
            "Epoch:  55 | train loss: 0.0041 | val loss: 0.0614 | train accuracy: 0.7610 | val accuracy: 0.7211\n",
            "Epoch:  56 | train loss: 0.0041 | val loss: 0.0565 | train accuracy: 0.7555 | val accuracy: 0.7415\n",
            "Epoch:  57 | train loss: 0.0040 | val loss: 0.0541 | train accuracy: 0.7669 | val accuracy: 0.7245\n",
            "Epoch:  58 | train loss: 0.0039 | val loss: 0.0589 | train accuracy: 0.7637 | val accuracy: 0.7211\n",
            "Epoch:  59 | train loss: 0.0039 | val loss: 0.0551 | train accuracy: 0.7661 | val accuracy: 0.7415\n",
            "Epoch:  60 | train loss: 0.0040 | val loss: 0.0536 | train accuracy: 0.7551 | val accuracy: 0.7347\n",
            "Epoch:  61 | train loss: 0.0039 | val loss: 0.0558 | train accuracy: 0.7614 | val accuracy: 0.7415\n",
            "Epoch:  62 | train loss: 0.0037 | val loss: 0.0533 | train accuracy: 0.7767 | val accuracy: 0.7483\n",
            "Epoch:  63 | train loss: 0.0038 | val loss: 0.0527 | train accuracy: 0.7771 | val accuracy: 0.7415\n",
            "Epoch:  64 | train loss: 0.0037 | val loss: 0.0543 | train accuracy: 0.7724 | val accuracy: 0.7245\n",
            "Epoch:  65 | train loss: 0.0037 | val loss: 0.0527 | train accuracy: 0.7751 | val accuracy: 0.7245\n",
            "Epoch:  66 | train loss: 0.0035 | val loss: 0.0533 | train accuracy: 0.7841 | val accuracy: 0.7381\n",
            "Epoch:  67 | train loss: 0.0036 | val loss: 0.0496 | train accuracy: 0.7771 | val accuracy: 0.7551\n",
            "Epoch:  68 | train loss: 0.0035 | val loss: 0.0482 | train accuracy: 0.7881 | val accuracy: 0.7551\n",
            "Epoch:  69 | train loss: 0.0035 | val loss: 0.0507 | train accuracy: 0.7849 | val accuracy: 0.7449\n",
            "Epoch:  70 | train loss: 0.0034 | val loss: 0.0486 | train accuracy: 0.7928 | val accuracy: 0.7585\n",
            "Epoch:  71 | train loss: 0.0033 | val loss: 0.0482 | train accuracy: 0.7995 | val accuracy: 0.7449\n",
            "Epoch:  72 | train loss: 0.0033 | val loss: 0.0495 | train accuracy: 0.8014 | val accuracy: 0.7619\n",
            "Epoch:  73 | train loss: 0.0034 | val loss: 0.0470 | train accuracy: 0.7936 | val accuracy: 0.7551\n",
            "Epoch:  74 | train loss: 0.0033 | val loss: 0.0471 | train accuracy: 0.7975 | val accuracy: 0.7755\n",
            "Epoch:  75 | train loss: 0.0032 | val loss: 0.0459 | train accuracy: 0.8002 | val accuracy: 0.7653\n",
            "Epoch:  76 | train loss: 0.0032 | val loss: 0.0467 | train accuracy: 0.8026 | val accuracy: 0.7653\n",
            "Epoch:  77 | train loss: 0.0031 | val loss: 0.0472 | train accuracy: 0.8046 | val accuracy: 0.7585\n",
            "Epoch:  78 | train loss: 0.0031 | val loss: 0.0426 | train accuracy: 0.8049 | val accuracy: 0.7755\n",
            "Epoch:  79 | train loss: 0.0030 | val loss: 0.0449 | train accuracy: 0.8148 | val accuracy: 0.7619\n",
            "Epoch:  80 | train loss: 0.0031 | val loss: 0.0438 | train accuracy: 0.8042 | val accuracy: 0.7721\n",
            "Epoch:  81 | train loss: 0.0031 | val loss: 0.0414 | train accuracy: 0.8026 | val accuracy: 0.7721\n",
            "Epoch:  82 | train loss: 0.0030 | val loss: 0.0407 | train accuracy: 0.8116 | val accuracy: 0.7619\n",
            "Epoch:  83 | train loss: 0.0028 | val loss: 0.0429 | train accuracy: 0.8242 | val accuracy: 0.7891\n",
            "Epoch:  84 | train loss: 0.0028 | val loss: 0.0415 | train accuracy: 0.8199 | val accuracy: 0.7891\n",
            "Epoch:  85 | train loss: 0.0029 | val loss: 0.0416 | train accuracy: 0.8206 | val accuracy: 0.7959\n",
            "Epoch:  86 | train loss: 0.0028 | val loss: 0.0409 | train accuracy: 0.8308 | val accuracy: 0.7925\n",
            "Epoch:  87 | train loss: 0.0028 | val loss: 0.0385 | train accuracy: 0.8230 | val accuracy: 0.7959\n",
            "Epoch:  88 | train loss: 0.0027 | val loss: 0.0401 | train accuracy: 0.8352 | val accuracy: 0.7959\n",
            "Epoch:  89 | train loss: 0.0027 | val loss: 0.0434 | train accuracy: 0.8254 | val accuracy: 0.7891\n",
            "Epoch:  90 | train loss: 0.0027 | val loss: 0.0421 | train accuracy: 0.8293 | val accuracy: 0.8095\n",
            "Epoch:  91 | train loss: 0.0028 | val loss: 0.0411 | train accuracy: 0.8281 | val accuracy: 0.8095\n",
            "Epoch:  92 | train loss: 0.0041 | val loss: 0.0548 | train accuracy: 0.7351 | val accuracy: 0.7313\n",
            "Epoch:  93 | train loss: 0.0039 | val loss: 0.0529 | train accuracy: 0.7555 | val accuracy: 0.7789\n",
            "Epoch:  94 | train loss: 0.0033 | val loss: 0.0452 | train accuracy: 0.7904 | val accuracy: 0.7959\n",
            "Epoch:  95 | train loss: 0.0029 | val loss: 0.0416 | train accuracy: 0.8242 | val accuracy: 0.7823\n",
            "Epoch:  96 | train loss: 0.0028 | val loss: 0.0397 | train accuracy: 0.8281 | val accuracy: 0.8095\n",
            "Epoch:  97 | train loss: 0.0026 | val loss: 0.0380 | train accuracy: 0.8324 | val accuracy: 0.8061\n",
            "Epoch:  98 | train loss: 0.0025 | val loss: 0.0372 | train accuracy: 0.8430 | val accuracy: 0.8129\n",
            "Epoch:  99 | train loss: 0.0025 | val loss: 0.0373 | train accuracy: 0.8462 | val accuracy: 0.8129\n",
            "Epoch:  100 | train loss: 0.0023 | val loss: 0.0360 | train accuracy: 0.8552 | val accuracy: 0.8197\n",
            "Epoch:  101 | train loss: 0.0025 | val loss: 0.0401 | train accuracy: 0.8387 | val accuracy: 0.7925\n",
            "Epoch:  102 | train loss: 0.0025 | val loss: 0.0428 | train accuracy: 0.8446 | val accuracy: 0.8197\n",
            "Epoch:  103 | train loss: 0.0024 | val loss: 0.0335 | train accuracy: 0.8465 | val accuracy: 0.8265\n",
            "Epoch:  104 | train loss: 0.0025 | val loss: 0.0381 | train accuracy: 0.8438 | val accuracy: 0.8163\n",
            "Epoch:  105 | train loss: 0.0025 | val loss: 0.0334 | train accuracy: 0.8450 | val accuracy: 0.8333\n",
            "Epoch:  106 | train loss: 0.0023 | val loss: 0.0341 | train accuracy: 0.8497 | val accuracy: 0.8265\n",
            "Epoch:  107 | train loss: 0.0023 | val loss: 0.0335 | train accuracy: 0.8583 | val accuracy: 0.8401\n",
            "Epoch:  108 | train loss: 0.0023 | val loss: 0.0387 | train accuracy: 0.8528 | val accuracy: 0.8129\n",
            "Epoch:  109 | train loss: 0.0024 | val loss: 0.0386 | train accuracy: 0.8493 | val accuracy: 0.8061\n",
            "Epoch:  110 | train loss: 0.0024 | val loss: 0.0319 | train accuracy: 0.8458 | val accuracy: 0.8333\n",
            "Epoch:  111 | train loss: 0.0022 | val loss: 0.0333 | train accuracy: 0.8619 | val accuracy: 0.8435\n",
            "Epoch:  112 | train loss: 0.0022 | val loss: 0.0320 | train accuracy: 0.8603 | val accuracy: 0.8197\n",
            "Epoch:  113 | train loss: 0.0022 | val loss: 0.0296 | train accuracy: 0.8634 | val accuracy: 0.8537\n",
            "Epoch:  114 | train loss: 0.0022 | val loss: 0.0357 | train accuracy: 0.8650 | val accuracy: 0.8231\n",
            "Epoch:  115 | train loss: 0.0023 | val loss: 0.0313 | train accuracy: 0.8552 | val accuracy: 0.8231\n",
            "Epoch:  116 | train loss: 0.0023 | val loss: 0.0298 | train accuracy: 0.8536 | val accuracy: 0.8401\n",
            "Epoch:  117 | train loss: 0.0022 | val loss: 0.0321 | train accuracy: 0.8658 | val accuracy: 0.8265\n",
            "Epoch:  118 | train loss: 0.0022 | val loss: 0.0297 | train accuracy: 0.8638 | val accuracy: 0.8469\n",
            "Epoch:  119 | train loss: 0.0021 | val loss: 0.0310 | train accuracy: 0.8670 | val accuracy: 0.8401\n",
            "Epoch:  120 | train loss: 0.0020 | val loss: 0.0291 | train accuracy: 0.8721 | val accuracy: 0.8673\n",
            "Epoch:  121 | train loss: 0.0019 | val loss: 0.0288 | train accuracy: 0.8834 | val accuracy: 0.8571\n",
            "Epoch:  122 | train loss: 0.0019 | val loss: 0.0356 | train accuracy: 0.8850 | val accuracy: 0.8265\n",
            "Epoch:  123 | train loss: 0.0019 | val loss: 0.0292 | train accuracy: 0.8799 | val accuracy: 0.8401\n",
            "Epoch:  124 | train loss: 0.0020 | val loss: 0.0312 | train accuracy: 0.8736 | val accuracy: 0.8435\n",
            "Epoch:  125 | train loss: 0.0021 | val loss: 0.0297 | train accuracy: 0.8705 | val accuracy: 0.8435\n",
            "Epoch:  126 | train loss: 0.0020 | val loss: 0.0316 | train accuracy: 0.8732 | val accuracy: 0.8333\n",
            "Epoch:  127 | train loss: 0.0020 | val loss: 0.0302 | train accuracy: 0.8803 | val accuracy: 0.8401\n",
            "Epoch:  128 | train loss: 0.0021 | val loss: 0.0301 | train accuracy: 0.8646 | val accuracy: 0.8469\n",
            "Epoch:  129 | train loss: 0.0019 | val loss: 0.0301 | train accuracy: 0.8795 | val accuracy: 0.8401\n",
            "Epoch:  130 | train loss: 0.0020 | val loss: 0.0290 | train accuracy: 0.8776 | val accuracy: 0.8537\n",
            "Epoch:  131 | train loss: 0.0019 | val loss: 0.0299 | train accuracy: 0.8783 | val accuracy: 0.8503\n",
            "Epoch:  132 | train loss: 0.0019 | val loss: 0.0339 | train accuracy: 0.8799 | val accuracy: 0.8469\n",
            "Epoch:  133 | train loss: 0.0018 | val loss: 0.0340 | train accuracy: 0.8870 | val accuracy: 0.8469\n",
            "Epoch:  134 | train loss: 0.0017 | val loss: 0.0290 | train accuracy: 0.8952 | val accuracy: 0.8605\n",
            "Epoch:  135 | train loss: 0.0017 | val loss: 0.0285 | train accuracy: 0.8964 | val accuracy: 0.8571\n",
            "Epoch:  136 | train loss: 0.0018 | val loss: 0.0282 | train accuracy: 0.8897 | val accuracy: 0.8469\n",
            "Epoch:  137 | train loss: 0.0017 | val loss: 0.0303 | train accuracy: 0.8976 | val accuracy: 0.8537\n",
            "Epoch:  138 | train loss: 0.0019 | val loss: 0.0315 | train accuracy: 0.8783 | val accuracy: 0.8469\n",
            "Epoch:  139 | train loss: 0.0019 | val loss: 0.0313 | train accuracy: 0.8779 | val accuracy: 0.8639\n",
            "Epoch:  140 | train loss: 0.0017 | val loss: 0.0289 | train accuracy: 0.8944 | val accuracy: 0.8469\n",
            "Epoch:  141 | train loss: 0.0017 | val loss: 0.0313 | train accuracy: 0.8850 | val accuracy: 0.8571\n",
            "Epoch:  142 | train loss: 0.0017 | val loss: 0.0284 | train accuracy: 0.8893 | val accuracy: 0.8503\n",
            "Epoch:  143 | train loss: 0.0017 | val loss: 0.0291 | train accuracy: 0.8984 | val accuracy: 0.8401\n",
            "Epoch:  144 | train loss: 0.0017 | val loss: 0.0287 | train accuracy: 0.8936 | val accuracy: 0.8401\n",
            "Epoch:  145 | train loss: 0.0016 | val loss: 0.0274 | train accuracy: 0.8987 | val accuracy: 0.8435\n",
            "Epoch:  146 | train loss: 0.0016 | val loss: 0.0285 | train accuracy: 0.9031 | val accuracy: 0.8537\n",
            "Epoch:  147 | train loss: 0.0016 | val loss: 0.0259 | train accuracy: 0.8999 | val accuracy: 0.8537\n",
            "Epoch:  148 | train loss: 0.0016 | val loss: 0.0274 | train accuracy: 0.9019 | val accuracy: 0.8639\n",
            "Epoch:  149 | train loss: 0.0017 | val loss: 0.0314 | train accuracy: 0.8929 | val accuracy: 0.8299\n",
            "Epoch:  150 | train loss: 0.0017 | val loss: 0.0296 | train accuracy: 0.8936 | val accuracy: 0.8605\n",
            "Epoch:  151 | train loss: 0.0016 | val loss: 0.0304 | train accuracy: 0.9023 | val accuracy: 0.8503\n",
            "Epoch:  152 | train loss: 0.0017 | val loss: 0.0290 | train accuracy: 0.8905 | val accuracy: 0.8469\n",
            "Epoch:  153 | train loss: 0.0019 | val loss: 0.0288 | train accuracy: 0.8838 | val accuracy: 0.8537\n",
            "Epoch:  154 | train loss: 0.0017 | val loss: 0.0271 | train accuracy: 0.8944 | val accuracy: 0.8673\n",
            "Epoch:  155 | train loss: 0.0016 | val loss: 0.0277 | train accuracy: 0.8995 | val accuracy: 0.8367\n",
            "Epoch:  156 | train loss: 0.0016 | val loss: 0.0268 | train accuracy: 0.9003 | val accuracy: 0.8503\n",
            "Epoch:  157 | train loss: 0.0015 | val loss: 0.0260 | train accuracy: 0.9050 | val accuracy: 0.8741\n",
            "Epoch:  158 | train loss: 0.0015 | val loss: 0.0250 | train accuracy: 0.9066 | val accuracy: 0.8707\n",
            "Epoch:  159 | train loss: 0.0014 | val loss: 0.0294 | train accuracy: 0.9125 | val accuracy: 0.8571\n",
            "Epoch:  160 | train loss: 0.0015 | val loss: 0.0278 | train accuracy: 0.9129 | val accuracy: 0.8605\n",
            "Epoch:  161 | train loss: 0.0015 | val loss: 0.0257 | train accuracy: 0.9082 | val accuracy: 0.8639\n",
            "Epoch:  162 | train loss: 0.0014 | val loss: 0.0265 | train accuracy: 0.9105 | val accuracy: 0.8571\n",
            "Epoch:  163 | train loss: 0.0015 | val loss: 0.0281 | train accuracy: 0.9089 | val accuracy: 0.8299\n",
            "Epoch:  164 | train loss: 0.0014 | val loss: 0.0289 | train accuracy: 0.9086 | val accuracy: 0.8707\n",
            "Epoch:  165 | train loss: 0.0015 | val loss: 0.0281 | train accuracy: 0.9101 | val accuracy: 0.8571\n",
            "Epoch:  166 | train loss: 0.0016 | val loss: 0.0265 | train accuracy: 0.9015 | val accuracy: 0.8571\n",
            "Epoch:  167 | train loss: 0.0016 | val loss: 0.0307 | train accuracy: 0.8991 | val accuracy: 0.8401\n",
            "Epoch:  168 | train loss: 0.0014 | val loss: 0.0249 | train accuracy: 0.9062 | val accuracy: 0.8673\n",
            "Epoch:  169 | train loss: 0.0015 | val loss: 0.0274 | train accuracy: 0.9019 | val accuracy: 0.8435\n",
            "Epoch:  170 | train loss: 0.0016 | val loss: 0.0243 | train accuracy: 0.8936 | val accuracy: 0.8673\n",
            "Epoch:  171 | train loss: 0.0013 | val loss: 0.0245 | train accuracy: 0.9141 | val accuracy: 0.8639\n",
            "Epoch:  172 | train loss: 0.0015 | val loss: 0.0277 | train accuracy: 0.9031 | val accuracy: 0.8571\n",
            "Epoch:  173 | train loss: 0.0015 | val loss: 0.0261 | train accuracy: 0.9050 | val accuracy: 0.8503\n",
            "Epoch:  174 | train loss: 0.0014 | val loss: 0.0268 | train accuracy: 0.9113 | val accuracy: 0.8605\n",
            "Epoch:  175 | train loss: 0.0014 | val loss: 0.0243 | train accuracy: 0.9113 | val accuracy: 0.8707\n",
            "Epoch:  176 | train loss: 0.0014 | val loss: 0.0252 | train accuracy: 0.9144 | val accuracy: 0.8537\n",
            "Epoch:  177 | train loss: 0.0014 | val loss: 0.0281 | train accuracy: 0.9082 | val accuracy: 0.8571\n",
            "Epoch:  178 | train loss: 0.0014 | val loss: 0.0260 | train accuracy: 0.9089 | val accuracy: 0.8605\n",
            "Epoch:  179 | train loss: 0.0014 | val loss: 0.0247 | train accuracy: 0.9109 | val accuracy: 0.8673\n",
            "Epoch:  180 | train loss: 0.0015 | val loss: 0.0274 | train accuracy: 0.9078 | val accuracy: 0.8639\n",
            "Epoch:  181 | train loss: 0.0013 | val loss: 0.0241 | train accuracy: 0.9125 | val accuracy: 0.8741\n",
            "Epoch:  182 | train loss: 0.0013 | val loss: 0.0260 | train accuracy: 0.9211 | val accuracy: 0.8537\n",
            "Epoch:  183 | train loss: 0.0013 | val loss: 0.0246 | train accuracy: 0.9203 | val accuracy: 0.8741\n",
            "Epoch:  184 | train loss: 0.0012 | val loss: 0.0272 | train accuracy: 0.9203 | val accuracy: 0.8571\n",
            "Epoch:  185 | train loss: 0.0012 | val loss: 0.0252 | train accuracy: 0.9290 | val accuracy: 0.8571\n",
            "Epoch:  186 | train loss: 0.0022 | val loss: 0.0399 | train accuracy: 0.8764 | val accuracy: 0.8299\n",
            "Epoch:  187 | train loss: 0.0019 | val loss: 0.0290 | train accuracy: 0.8862 | val accuracy: 0.8401\n",
            "Epoch:  188 | train loss: 0.0015 | val loss: 0.0293 | train accuracy: 0.8999 | val accuracy: 0.8537\n",
            "Epoch:  189 | train loss: 0.0014 | val loss: 0.0294 | train accuracy: 0.9137 | val accuracy: 0.8673\n",
            "Epoch:  190 | train loss: 0.0013 | val loss: 0.0240 | train accuracy: 0.9195 | val accuracy: 0.8673\n",
            "Epoch:  191 | train loss: 0.0013 | val loss: 0.0240 | train accuracy: 0.9211 | val accuracy: 0.8741\n",
            "Epoch:  192 | train loss: 0.0012 | val loss: 0.0229 | train accuracy: 0.9266 | val accuracy: 0.8707\n",
            "Epoch:  193 | train loss: 0.0011 | val loss: 0.0228 | train accuracy: 0.9325 | val accuracy: 0.8878\n",
            "Epoch:  194 | train loss: 0.0011 | val loss: 0.0239 | train accuracy: 0.9356 | val accuracy: 0.8707\n",
            "Epoch:  195 | train loss: 0.0012 | val loss: 0.0271 | train accuracy: 0.9239 | val accuracy: 0.8776\n",
            "Epoch:  196 | train loss: 0.0011 | val loss: 0.0223 | train accuracy: 0.9294 | val accuracy: 0.8741\n",
            "Epoch:  197 | train loss: 0.0012 | val loss: 0.0229 | train accuracy: 0.9262 | val accuracy: 0.8741\n",
            "Epoch:  198 | train loss: 0.0013 | val loss: 0.0229 | train accuracy: 0.9219 | val accuracy: 0.8776\n",
            "Epoch:  199 | train loss: 0.0013 | val loss: 0.0231 | train accuracy: 0.9152 | val accuracy: 0.8673\n"
          ],
          "name": "stdout"
        }
      ]
    },
    {
      "cell_type": "code",
      "metadata": {
        "id": "Xw7LWm4xFXmI"
      },
      "source": [
        "# load the experiments history that you want to plot\n",
        "history_loaded = readHistory(history_file)"
      ],
      "execution_count": 58,
      "outputs": []
    },
    {
      "cell_type": "code",
      "metadata": {
        "id": "lgVr5liNyFAZ"
      },
      "source": [
        "folder = \"/content/drive/MyDrive/landcover/RNN/hyper_params/dropouts/dropouts_\""
      ],
      "execution_count": 59,
      "outputs": []
    },
    {
      "cell_type": "code",
      "metadata": {
        "id": "PKo2PGyxFlhp",
        "colab": {
          "base_uri": "https://localhost:8080/",
          "height": 1000
        },
        "outputId": "1afd88b9-dd53-4198-d9b5-fede9d6d3df7"
      },
      "source": [
        "# plot the training experiments to choose the best hyperparameters\n",
        "plotHistory(history_loaded, hyper_config , folder)"
      ],
      "execution_count": 60,
      "outputs": [
        {
          "output_type": "stream",
          "text": [
            "Learning rate 0.001, gru layers 2, hidden_layers 80, dropout 0\n"
          ],
          "name": "stdout"
        },
        {
          "output_type": "display_data",
          "data": {
            "image/png": "[encoded data removed]",
            "text/plain": [
              "<Figure size 432x288 with 2 Axes>"
            ]
          },
          "metadata": {
            "tags": [],
            "needs_background": "light"
          }
        },
        {
          "output_type": "stream",
          "text": [
            "Learning rate 0.001, gru layers 2, hidden_layers 80, dropout 0.3\n"
          ],
          "name": "stdout"
        },
        {
          "output_type": "display_data",
          "data": {
            "image/png": "[encoded data removed]",
            "text/plain": [
              "<Figure size 432x288 with 2 Axes>"
            ]
          },
          "metadata": {
            "tags": [],
            "needs_background": "light"
          }
        },
        {
          "output_type": "stream",
          "text": [
            "Learning rate 0.001, gru layers 2, hidden_layers 80, dropout 0.5\n"
          ],
          "name": "stdout"
        },
        {
          "output_type": "display_data",
          "data": {
            "image/png": "[encoded data removed]",
            "text/plain": [
              "<Figure size 432x288 with 2 Axes>"
            ]
          },
          "metadata": {
            "tags": [],
            "needs_background": "light"
          }
        },
        {
          "output_type": "stream",
          "text": [
            "Learning rate 0.001, gru layers 2, hidden_layers 80, dropout 0.7\n"
          ],
          "name": "stdout"
        },
        {
          "output_type": "display_data",
          "data": {
            "image/png": "[encoded data removed]",
            "text/plain": [
              "<Figure size 432x288 with 2 Axes>"
            ]
          },
          "metadata": {
            "tags": [],
            "needs_background": "light"
          }
        }
      ]
    },
    {
      "cell_type": "markdown",
      "metadata": {
        "id": "3BBVN1wDF0wL"
      },
      "source": [
        "## Evaluation of the model on the test data"
      ]
    },
    {
      "cell_type": "code",
      "metadata": {
        "id": "7Hzn4y_0ns06"
      },
      "source": [
        "# choose the best hyperparameters from the analysis of the training experiments \n",
        "# perfomed on the validation dataset\n",
        "best_lr = 0.001\n",
        "best_num_layers = 2\n",
        "best_hidden_size = 80\n",
        "best_dropout = 0.3"
      ],
      "execution_count": 61,
      "outputs": []
    },
    {
      "cell_type": "code",
      "metadata": {
        "colab": {
          "base_uri": "https://localhost:8080/"
        },
        "id": "nivHOhe7RaA4",
        "outputId": "bb09aa1a-b352-48d9-dca6-5b2543d76072"
      },
      "source": [
        "# time of training for a model with the best hyperparameters\n",
        "for t in times:\n",
        "  if t[\"lr\"] == best_lr and t[\"gru_num_layers\"] == best_num_layers and \\\n",
        "   t[\"gru_hidden_size\"] == best_hidden_size and t[\"dropout\"] == best_dropout:\n",
        "    print(\"Training time is {}\".format(t[\"time\"]))"
      ],
      "execution_count": null,
      "outputs": [
        {
          "output_type": "stream",
          "text": [
            "Training time is 68.79630064964294\n"
          ],
          "name": "stdout"
        }
      ]
    },
    {
      "cell_type": "code",
      "metadata": {
        "id": "BFaipf7aGI7f"
      },
      "source": [
        "# load the model with the chosen parameters\n",
        "rnn = GRU(hidden_size = best_hidden_size, num_layers = best_num_layers, dropout = best_dropout)"
      ],
      "execution_count": 62,
      "outputs": []
    },
    {
      "cell_type": "code",
      "metadata": {
        "colab": {
          "base_uri": "https://localhost:8080/"
        },
        "id": "lgQSpV6-C1dh",
        "outputId": "59f12ad0-53e1-4ff8-c5f1-a4571a747190"
      },
      "source": [
        "# count the number of trainable parameters\n",
        "params = 0\n",
        "for p in rnn.parameters():\n",
        "  if p.requires_grad:\n",
        "    params += p.numel()\n",
        "print(\"The number of trainable parameters in the model is {}\".format(params))"
      ],
      "execution_count": 63,
      "outputs": [
        {
          "output_type": "stream",
          "text": [
            "The number of trainable parameters in the model is 60015\n"
          ],
          "name": "stdout"
        }
      ]
    },
    {
      "cell_type": "code",
      "metadata": {
        "id": "ZA1rWS8IGFHA",
        "colab": {
          "base_uri": "https://localhost:8080/"
        },
        "outputId": "5b4aa0d1-7409-4722-d0f8-a931c470014b"
      },
      "source": [
        "# load the weights from the training experiment with the best results\n",
        "rnn.to(device)\n",
        "rnn.eval()\n",
        "\n",
        "rnn.load_state_dict(torch.load('/content/drive/MyDrive/landcover/RNN/model_weights/net_params_RNN_{}_{}_{}_{}.pkl'.format(\n",
        "    best_lr, best_num_layers, best_hidden_size, best_dropout)))"
      ],
      "execution_count": 64,
      "outputs": [
        {
          "output_type": "execute_result",
          "data": {
            "text/plain": [
              "<All keys matched successfully>"
            ]
          },
          "metadata": {
            "tags": []
          },
          "execution_count": 64
        }
      ]
    },
    {
      "cell_type": "code",
      "metadata": {
        "colab": {
          "base_uri": "https://localhost:8080/"
        },
        "id": "YTBXM4EOGoXF",
        "outputId": "b139574f-d5fe-4874-8e31-8c093a4cd30c"
      },
      "source": [
        "rnn.to(device)\n",
        "rnn.eval()"
      ],
      "execution_count": 65,
      "outputs": [
        {
          "output_type": "execute_result",
          "data": {
            "text/plain": [
              "GRU(\n",
              "  (GRU): GRU(1, 80, num_layers=2, batch_first=True, dropout=0.3)\n",
              "  (out): Linear(in_features=80, out_features=15, bias=True)\n",
              ")"
            ]
          },
          "metadata": {
            "tags": []
          },
          "execution_count": 65
        }
      ]
    },
    {
      "cell_type": "code",
      "metadata": {
        "id": "qkK6xhs9Ixc2"
      },
      "source": [
        "# apply a trained model on the test data and measure testing time\n",
        "start_y = time.time()\n",
        "pred_y = predictData(rnn, TestData, len(TestDataLabel))\n",
        "end_y = time.time()\n",
        "time_y = end_y - start_y "
      ],
      "execution_count": null,
      "outputs": []
    },
    {
      "cell_type": "code",
      "metadata": {
        "colab": {
          "base_uri": "https://localhost:8080/"
        },
        "id": "73Om8iHDTMdp",
        "outputId": "08aa1ba0-630b-4227-c1ab-8ae61d05f98e"
      },
      "source": [
        "print(\"Testing time is {} sec\".format(time_y))"
      ],
      "execution_count": null,
      "outputs": [
        {
          "output_type": "stream",
          "text": [
            "Testing time is 0.14175724983215332 sec\n"
          ],
          "name": "stdout"
        }
      ]
    },
    {
      "cell_type": "code",
      "metadata": {
        "colab": {
          "base_uri": "https://localhost:8080/"
        },
        "id": "ZNIu-KjiJI3U",
        "outputId": "5eb5097a-cbe7-4cd2-e1c8-435f9469d164"
      },
      "source": [
        "# compute overall accuracy\n",
        "OA = computeOverallAccuracy(pred_y, TestDataLabel)\n",
        "print('Overall accuracy is: {}'.format(OA.data.cpu().numpy()))"
      ],
      "execution_count": null,
      "outputs": [
        {
          "output_type": "stream",
          "text": [
            "Overall accuracy is: 0.7616627216339111\n"
          ],
          "name": "stdout"
        }
      ]
    },
    {
      "cell_type": "code",
      "metadata": {
        "colab": {
          "base_uri": "https://localhost:8080/"
        },
        "id": "x_7HlQ7vPJUS",
        "outputId": "6aa5c9f0-725e-4155-9280-a79a73ad9774"
      },
      "source": [
        "# compute accuracy for each class\n",
        "EachAcc = computeAccuracyForEachClass(pred_y, TestDataLabel, Classes)\n",
        "print('Accuracies for each class are \\n\\n{}'.format(EachAcc.data.cpu().numpy()))"
      ],
      "execution_count": null,
      "outputs": [
        {
          "output_type": "stream",
          "text": [
            "Accuracies for each class are \n",
            "\n",
            "[0.82241213 0.931391   0.9940594  0.905303   0.9185606  0.97902095\n",
            " 0.7145522  0.4169041  0.7261568  0.65444016 0.7267552  0.568684\n",
            " 0.55789477 0.9716599  0.9640592 ]\n"
          ],
          "name": "stdout"
        }
      ]
    },
    {
      "cell_type": "code",
      "metadata": {
        "colab": {
          "base_uri": "https://localhost:8080/"
        },
        "id": "mlUXNu6GTJSE",
        "outputId": "effd13a8-2efb-4615-f9f9-43f0dc7ade7d"
      },
      "source": [
        "# compute average accuracy\n",
        "AA = computeAvarageAccuracy(pred_y, TestDataLabel, Classes)\n",
        "print('Avarage accuracy is: {}'.format(AA.data.cpu().numpy()))"
      ],
      "execution_count": null,
      "outputs": [
        {
          "output_type": "stream",
          "text": [
            "Avarage accuracy is: 0.7901235818862915\n"
          ],
          "name": "stdout"
        }
      ]
    },
    {
      "cell_type": "code",
      "metadata": {
        "colab": {
          "base_uri": "https://localhost:8080/"
        },
        "id": "2pq1kSzdW6hx",
        "outputId": "fa25e8c2-1146-452a-c45c-9e94308ed314"
      },
      "source": [
        "# compute cohen_score\n",
        "cohen_score = cohen_kappa_score(pred_y, TestDataLabel)\n",
        "print('Cohen\\'s kappa is: {}'.format(cohen_score))"
      ],
      "execution_count": null,
      "outputs": [
        {
          "output_type": "stream",
          "text": [
            "Cohen's kappa is: 0.7421594158620568\n"
          ],
          "name": "stdout"
        }
      ]
    },
    {
      "cell_type": "code",
      "metadata": {
        "id": "daCMrV55BY9R"
      },
      "source": [
        "# apply a trained model on all data and measure time\n",
        "start_all = time.time()\n",
        "pred_all = predictData(rnn, TotalData, m*n)\n",
        "end_all = time.time()\n",
        "pred_all = torch.reshape(pred_all, (m, n)) + 1"
      ],
      "execution_count": null,
      "outputs": []
    },
    {
      "cell_type": "code",
      "metadata": {
        "colab": {
          "base_uri": "https://localhost:8080/"
        },
        "id": "mDxEIAeFT1i3",
        "outputId": "51846ed5-5684-4f5f-816a-32e24ec63017"
      },
      "source": [
        "# efficiecy (pixel per second)\n",
        "pixel_for_sec = (m * n) / (end_all - start_all)\n",
        "print(\"Efficiecy, (pixel per second) {}\".format(pixel_for_sec))"
      ],
      "execution_count": null,
      "outputs": [
        {
          "output_type": "stream",
          "text": [
            "Efficiecy, (pixel per second) 102344.42398547589\n"
          ],
          "name": "stdout"
        }
      ]
    },
    {
      "cell_type": "code",
      "metadata": {
        "id": "nMAqqR9jfOKW",
        "colab": {
          "base_uri": "https://localhost:8080/",
          "height": 611
        },
        "outputId": "3e37ae0b-347a-4ac5-bb76-afd1d72565a0"
      },
      "source": [
        "# produce confusion matrix\n",
        "cm = confusion_matrix(TestDataLabel, pred_y)\n",
        "plot_confusion_matrix(cm,['grass healthy', 'grass stressed', 'grass synthetic',\n",
        "                           'tree', 'soil', 'water', 'residential', 'commercial', \n",
        "                           'road', 'highway', 'railway', 'parking lot 1', \n",
        "                           'parking lot 2', 'tennis court', 'running track'],\n",
        "                      '/content/drive/MyDrive/landcover/RNN_confusion.png',\n",
        "                      title='Confusion matrix',\n",
        "                      cmap=None,normalize=True)"
      ],
      "execution_count": null,
      "outputs": [
        {
          "output_type": "display_data",
          "data": {
            "image/png": "[encoded data removed]",
            "text/plain": [
              "<Figure size 720x576 with 1 Axes>"
            ]
          },
          "metadata": {
            "tags": [],
            "needs_background": "light"
          }
        }
      ]
    },
    {
      "cell_type": "code",
      "metadata": {
        "id": "8bAZw3JwT5Eb",
        "colab": {
          "base_uri": "https://localhost:8080/",
          "height": 225
        },
        "outputId": "2f4cc0f9-5303-41d5-e0a5-ee1025d6ca1b"
      },
      "source": [
        "# create segmantation map and save it\n",
        "printImage(\n",
        "    [\"green\", \"#AEF359\", \"#395500\", \"#013220\", \"#4f0a11\",  \"blue\", \"white\", \"red\",\n",
        "     \"#003955\", \"#5bf5f0\", \"magenta\", \"#deff73\", \"purple\", \"yellow\", \"brown\"],\n",
        "    pred_all,\n",
        "    '/content/drive/MyDrive/landcover/segmentation_map_RNN.png')"
      ],
      "execution_count": null,
      "outputs": [
        {
          "output_type": "display_data",
          "data": {
            "image/png": "[encoded data removed]",
            "text/plain": [
              "<Figure size 432x288 with 2 Axes>"
            ]
          },
          "metadata": {
            "tags": [],
            "needs_background": "light"
          }
        }
      ]
    }
  ]
}